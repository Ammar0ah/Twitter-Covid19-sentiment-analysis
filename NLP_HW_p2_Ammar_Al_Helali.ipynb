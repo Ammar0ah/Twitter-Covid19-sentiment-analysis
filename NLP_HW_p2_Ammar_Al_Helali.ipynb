{
 "cells": [
  {
   "cell_type": "code",
   "execution_count": 3,
   "metadata": {
    "id": "Jl9gLFUcNtBt"
   },
   "outputs": [],
   "source": [
    "from nltk.corpus import stopwords\n",
    "from nltk import word_tokenize,wordpunct_tokenize,wordnet,FreqDist,PorterStemmer\n",
    "from nltk.tokenize import TweetTokenizer\n",
    "import pandas as pd\n",
    "import matplotlib.pyplot as plt\n",
    "import numpy as np\n",
    "import re\n",
    "import matplotlib.pyplot as plt\n"
   ]
  },
  {
   "cell_type": "markdown",
   "metadata": {
    "id": "5VFsgw5QNtBz"
   },
   "source": [
    "### Loading Data"
   ]
  },
  {
   "cell_type": "code",
   "execution_count": 4,
   "metadata": {
    "colab": {
     "base_uri": "https://localhost:8080/"
    },
    "id": "TqYeEgTUNtBz",
    "outputId": "d17a4141-d42e-4f57-9b4b-c0f5d87743c0",
    "scrolled": true
   },
   "outputs": [
    {
     "name": "stdout",
     "output_type": "stream",
     "text": [
      "       UserName  ScreenName                Location     TweetAt  \\\n",
      "36499     40298       85250                     NaN  09-04-2020   \n",
      "39750     43549       88501                     NaN  13-04-2020   \n",
      "13870     17669       62621                     NaN  21-03-2020   \n",
      "31591     35390       80342                 toronto  07-04-2020   \n",
      "5670       9469       54421  San Francisco Bay Area  19-03-2020   \n",
      "32404     36203       81155            New York, NY  07-04-2020   \n",
      "9842      13641       58593                  London  20-03-2020   \n",
      "11539     15338       60290                     NaN  20-03-2020   \n",
      "24147     27946       72898          Leeds, England  26-03-2020   \n",
      "37526     41325       86277        New Delhi, India  10-04-2020   \n",
      "6689      10488       55440      Wokingham, England  19-03-2020   \n",
      "17198     20997       65949                     NaN  23-03-2020   \n",
      "21914     25713       70665                      NH  25-03-2020   \n",
      "24769     28568       73520  Mountain View, CA, USA  27-03-2020   \n",
      "9057      12856       57808            Matthews, NC  20-03-2020   \n",
      "15066     18865       63817       Vancouver, Canada  22-03-2020   \n",
      "31811     35610       80562        Indianapolis, IN  07-04-2020   \n",
      "4908       8707       53659                     NaN  18-03-2020   \n",
      "27129     30928       75880                     NaN  03-04-2020   \n",
      "37186     40985       85937                     NaN  10-04-2020   \n",
      "\n",
      "                                           OriginalTweet           Sentiment  \n",
      "36499  Toilet paper shortage during outbreak? Here's ...            Negative  \n",
      "39750  Did you check our 400Ml Automatic Liquid Soap ...             Neutral  \n",
      "13870  Govt fixes prices of mask and sanitisers Much ...            Positive  \n",
      "31591   All hands on deck  Grocery store executives g...            Negative  \n",
      "5670   Have you seen any outrageous prices online or ...            Negative  \n",
      "32404  Who wants some coronacake? #toiletpaper #tpoco...             Neutral  \n",
      "9842   #London, where's all the food gone?\\r\\r\\n#COVI...             Neutral  \n",
      "11539  Today at the grocery store I got a foot long r...  Extremely Positive  \n",
      "24147  Police patrolling at Leeds supermarket to enfo...             Neutral  \n",
      "37526  @KapilSibal -Sir\\r\\r\\nOn your question to work...  Extremely Positive  \n",
      "6689   Depressing scenes in supermarkets/food shops ?...  Extremely Negative  \n",
      "17198  HOW TO MAKE YOUR OWN HOMEMADE HAND SANITIZER S...            Positive  \n",
      "21914  Stay home Scott orders in response to COVID 19...            Positive  \n",
      "24769  Every Â20s decade has brought roaring bull ma...            Negative  \n",
      "9057   The bread aisle at my local supermarket was ba...            Negative  \n",
      "15066  Can t find fresh chicken or eggs in your super...            Positive  \n",
      "31811  It has been inspiring to see the world come to...            Positive  \n",
      "4908   COVID-19: This shii is getting real! Protect y...            Positive  \n",
      "27129  Some of the Chinese companies who are claiming...            Positive  \n",
      "37186  Being extra cautious doesn't cause any harm. D...            Positive  \n"
     ]
    }
   ],
   "source": [
    "df = pd.read_csv(\"Covid_19_tweets_train.csv\",encoding=\"latin1\")\n",
    "print(df.sample(20)) "
   ]
  },
  {
   "cell_type": "markdown",
   "metadata": {
    "id": "RCiYPI8sNtB0"
   },
   "source": [
    "# Data Preprocessing"
   ]
  },
  {
   "cell_type": "code",
   "execution_count": 5,
   "metadata": {
    "colab": {
     "base_uri": "https://localhost:8080/"
    },
    "id": "Bfcbge99NtB0",
    "outputId": "e88c078e-7fe6-42f4-d7e6-3f9943b3ac1c"
   },
   "outputs": [],
   "source": [
    "# import nltk\n",
    "# nltk.download('stopwords')\n",
    "# nltk.download('wordnet')\n",
    "\n",
    "stop_words = set(stopwords.words(\"english\"))\n",
    "import string\n",
    "\n",
    "hashtags = []\n",
    "def preprocess(text):\n",
    "    # Lower case\n",
    "    text = text.lower()\n",
    "    # remove punct    \n",
    "    table = str.maketrans('', '', string.punctuation.replace(\"#\",''))\n",
    "    text = text.translate(table)\n",
    "    text = text.split()\n",
    "    hashtags.extend([re.sub(\"#\",'',word) for word in text if \"#\" in word])\n",
    "    text = [re.sub(\"#\",'',word) for word in text]\n",
    "    \n",
    "    # remove digits and strange symbol \n",
    "    text = [re.sub(\"(\\d+|€+)\",'',word) for word in text]\n",
    "    \n",
    "    # remove urls and empty tweet tags and whitespaces\n",
    "    text = [word for word in text if re.match(r\"^(https)\",word) == None and word != \"#\"]\n",
    "    text = [word for word in text if word != \" \"]\n",
    "    text = \" \".join(text)\n",
    "   \n",
    "    # remove strange encoding chars\n",
    "    filters = \" \".join(filter(lambda char: char not in string.printable, text))\n",
    "    if len(filters) > 0:\n",
    "        text = re.sub(f'[{filters}*]',' ',text)\n",
    "    \n",
    "    # tokinaztion\n",
    "    tokanizer = TweetTokenizer()\n",
    "    text = tokanizer.tokenize(text)\n",
    "  \n",
    "    # remove stopwords and single chars\n",
    "    text = [t for t in text if t not in stop_words and len(t) > 1]\n",
    "    lemmatizer = wordnet.WordNetLemmatizer()\n",
    "    text = [lemmatizer.lemmatize(w) for w in text]\n",
    "#     hashtags.extend([word for word in text if \"#\" in word])\n",
    "#     stemming\n",
    "#     stemmer = PorterStemmer()\n",
    "#     text = [stemmer.stem(w) for w in text]\n",
    "    \n",
    "    return \" \".join(text)"
   ]
  },
  {
   "cell_type": "code",
   "execution_count": 7,
   "metadata": {
    "id": "7smHUGM9NtB1"
   },
   "outputs": [],
   "source": [
    "df[\"CleanedTweet\"] = df[\"OriginalTweet\"].apply(lambda x:preprocess(x))"
   ]
  },
  {
   "cell_type": "code",
   "execution_count": 8,
   "metadata": {
    "colab": {
     "base_uri": "https://localhost:8080/"
    },
    "id": "BF4Gt2bANtB1",
    "outputId": "559dc41c-2e7b-47f9-9e49-5ffec9061591"
   },
   "outputs": [
    {
     "data": {
      "text/plain": [
       "0                              menyrbie philgahan chrisitv\n",
       "1        advice talk neighbour family exchange phone nu...\n",
       "2        coronavirus australia woolworth give elderly d...\n",
       "3        food stock one empty please dont panic enough ...\n",
       "4        ready go supermarket covid outbreak im paranoi...\n",
       "                               ...                        \n",
       "41152    airline pilot offering stock supermarket shelf...\n",
       "41153    response complaint provided citing covid relat...\n",
       "41154    know getting tough kameronwilds rationing toil...\n",
       "41155    wrong smell hand sanitizer starting turn coron...\n",
       "41156    tartiicat well newused rift going amazon rn al...\n",
       "Name: CleanedTweet, Length: 41141, dtype: object"
      ]
     },
     "execution_count": 8,
     "metadata": {},
     "output_type": "execute_result"
    }
   ],
   "source": [
    "# remove empty cells \n",
    "df[\"CleanedTweet\"].replace('',np.nan,inplace=True)\n",
    "df.dropna(subset=[\"CleanedTweet\"],inplace=True)\n",
    "nan_value = float(\"NaN\")\n",
    "\n",
    "df[\"CleanedTweet\"].replace(\"\", nan_value, inplace=True)\n",
    "\n",
    "df[\"CleanedTweet\"].dropna(inplace=True)\n",
    "df[\"CleanedTweet\"].dropna()\n"
   ]
  },
  {
   "cell_type": "code",
   "execution_count": 149,
   "metadata": {
    "id": "4VR8-xcVNtB2"
   },
   "outputs": [],
   "source": []
  },
  {
   "cell_type": "code",
   "execution_count": null,
   "metadata": {
    "id": "wBq3S66eNtB2",
    "outputId": "84b2b3da-b309-4baf-c01c-4baaee6293fe"
   },
   "outputs": [
    {
     "data": {
      "text/plain": [
       "count                                     41141\n",
       "unique                                    40934\n",
       "top       online shopping way covid restriction\n",
       "freq                                          7\n",
       "Name: CleanedTweet, dtype: object"
      ]
     },
     "execution_count": 6,
     "metadata": {
      "tags": []
     },
     "output_type": "execute_result"
    }
   ],
   "source": [
    "df[\"CleanedTweet\"].describe()"
   ]
  },
  {
   "cell_type": "code",
   "execution_count": null,
   "metadata": {
    "id": "KC6xljXvNtB2",
    "outputId": "9768aee9-d432-49d7-c060-fd65e6411615"
   },
   "outputs": [
    {
     "data": {
      "text/plain": [
       "count                                                 41141\n",
       "unique                                                41141\n",
       "top       Tips on making requests on   Ask consumer prot...\n",
       "freq                                                      1\n",
       "Name: OriginalTweet, dtype: object"
      ]
     },
     "execution_count": 7,
     "metadata": {
      "tags": []
     },
     "output_type": "execute_result"
    }
   ],
   "source": [
    "df[\"OriginalTweet\"].describe()"
   ]
  },
  {
   "cell_type": "markdown",
   "metadata": {
    "id": "W2MM8V99NtB2"
   },
   "source": [
    "# Text Analysis"
   ]
  },
  {
   "cell_type": "code",
   "execution_count": 9,
   "metadata": {
    "id": "NUYjb6wWNtB3"
   },
   "outputs": [],
   "source": [
    "from sklearn.feature_extraction.text import CountVectorizer,TfidfVectorizer\n",
    "from sklearn.model_selection import train_test_split\n",
    "from collections import Counter\n"
   ]
  },
  {
   "cell_type": "code",
   "execution_count": 14,
   "metadata": {
    "id": "CymVGyYyNtB3"
   },
   "outputs": [],
   "source": [
    "# X_train = data[\"CleanedTweet\"][:int(.75 * len(data[\"CleanedTweet\"]))]\n",
    "# X_test = data[\"CleanedTweet\"][int(.75 * len(data[\"CleanedTweet\"])):]\n",
    "X = df[\"CleanedTweet\"]\n",
    "y = df[\"Sentiment\"]\n",
    "\n",
    "X_train,X_test,y_train,y_test = train_test_split(X,y,random_state=42)\n",
    "\n"
   ]
  },
  {
   "cell_type": "code",
   "execution_count": 153,
   "metadata": {
    "colab": {
     "base_uri": "https://localhost:8080/"
    },
    "id": "Ub0l3IVkNtB3",
    "outputId": "cafe819b-d2c1-49ee-cd44-a3ad28e9efe2",
    "scrolled": true
   },
   "outputs": [
    {
     "name": "stdout",
     "output_type": "stream",
     "text": [
      "[('covid', 21816), ('coronavirus', 18021), ('price', 8944), ('store', 8164), ('supermarket', 7734), ('food', 7222), ('grocery', 6737), ('people', 5609), ('consumer', 5169), ('grocery store', 5081)]\n"
     ]
    }
   ],
   "source": [
    "trigram_cv = CountVectorizer(ngram_range=(1,3),min_df=1)\n",
    "trigram_cv.fit(X)\n",
    "vectorizer = trigram_cv.transform(X)\n",
    "\n",
    "count_list = np.array(vectorizer.sum(axis=0).A1)\n",
    "word_list = np.array(trigram_cv.get_feature_names())\n",
    "\n",
    "# most common words\n",
    "freq_distribution = Counter(dict(zip(word_list, count_list)))\n",
    "print (freq_distribution.most_common(10))\n"
   ]
  },
  {
   "cell_type": "code",
   "execution_count": null,
   "metadata": {
    "id": "HXDTsproNtB3",
    "outputId": "bcfaa31f-9526-4df1-ee48-eb497b4aae16"
   },
   "outputs": [
    {
     "data": {
      "text/html": [
       "<div>\n",
       "<style scoped>\n",
       "    .dataframe tbody tr th:only-of-type {\n",
       "        vertical-align: middle;\n",
       "    }\n",
       "\n",
       "    .dataframe tbody tr th {\n",
       "        vertical-align: top;\n",
       "    }\n",
       "\n",
       "    .dataframe thead th {\n",
       "        text-align: right;\n",
       "    }\n",
       "</style>\n",
       "<table border=\"1\" class=\"dataframe\">\n",
       "  <thead>\n",
       "    <tr style=\"text-align: right;\">\n",
       "      <th></th>\n",
       "      <th>word</th>\n",
       "      <th>count</th>\n",
       "    </tr>\n",
       "  </thead>\n",
       "  <tbody>\n",
       "    <tr>\n",
       "      <th>0</th>\n",
       "      <td>covid</td>\n",
       "      <td>21816</td>\n",
       "    </tr>\n",
       "    <tr>\n",
       "      <th>1</th>\n",
       "      <td>coronavirus</td>\n",
       "      <td>18021</td>\n",
       "    </tr>\n",
       "    <tr>\n",
       "      <th>2</th>\n",
       "      <td>price</td>\n",
       "      <td>8944</td>\n",
       "    </tr>\n",
       "    <tr>\n",
       "      <th>3</th>\n",
       "      <td>store</td>\n",
       "      <td>8164</td>\n",
       "    </tr>\n",
       "    <tr>\n",
       "      <th>4</th>\n",
       "      <td>supermarket</td>\n",
       "      <td>7734</td>\n",
       "    </tr>\n",
       "  </tbody>\n",
       "</table>\n",
       "</div>"
      ],
      "text/plain": [
       "          word  count\n",
       "0        covid  21816\n",
       "1  coronavirus  18021\n",
       "2        price   8944\n",
       "3        store   8164\n",
       "4  supermarket   7734"
      ]
     },
     "execution_count": 11,
     "metadata": {
      "tags": []
     },
     "output_type": "execute_result"
    }
   ],
   "source": [
    "freq_df = pd.DataFrame(freq_distribution.most_common(30),columns=['word','count'])\n",
    "freq_df.head()\n"
   ]
  },
  {
   "cell_type": "code",
   "execution_count": null,
   "metadata": {
    "id": "2A08fuFdNtB3",
    "outputId": "a6f2e55d-1de4-4f14-c6f4-f1051f85cc91"
   },
   "outputs": [
    {
     "data": {
      "image/png": "[encoded data removed]",
      "text/plain": [
       "<Figure size 1152x1152 with 1 Axes>"
      ]
     },
     "metadata": {
      "needs_background": "light",
      "tags": []
     },
     "output_type": "display_data"
    }
   ],
   "source": [
    "fig, ax = plt.subplots(figsize=(16, 16))\n",
    "freq_df.sort_values(by='count').plot.barh(\n",
    "x='word',y='count',ax=ax,color='#98acf8')\n",
    "plt.show()"
   ]
  },
  {
   "cell_type": "markdown",
   "metadata": {
    "id": "dp33AHM3NtB4"
   },
   "source": [
    "# Trending Topics"
   ]
  },
  {
   "cell_type": "code",
   "execution_count": null,
   "metadata": {
    "id": "puri7JKeNtB4",
    "outputId": "1b0abe92-2fae-42e5-84ff-eee908620e5d"
   },
   "outputs": [
    {
     "data": {
      "image/png": "[encoded data removed]",
      "text/plain": [
       "<Figure size 432x288 with 1 Axes>"
      ]
     },
     "metadata": {
      "needs_background": "light",
      "tags": []
     },
     "output_type": "display_data"
    },
    {
     "data": {
      "text/plain": [
       "<matplotlib.axes._subplots.AxesSubplot at 0x1faaec1d6c8>"
      ]
     },
     "execution_count": 13,
     "metadata": {
      "tags": []
     },
     "output_type": "execute_result"
    }
   ],
   "source": [
    "hashtags_freq = FreqDist(hashtags)\n",
    "hashtags_freq.plot(20)"
   ]
  },
  {
   "cell_type": "markdown",
   "metadata": {
    "id": "ILkMgk5dNtB4"
   },
   "source": [
    "### remove empty Locations"
   ]
  },
  {
   "cell_type": "code",
   "execution_count": null,
   "metadata": {
    "id": "nW1Y3v8SNtB4",
    "outputId": "b8f1d15a-b6d3-43dd-f0be-ae8f57f9507b"
   },
   "outputs": [
    {
     "data": {
      "text/plain": [
       "0                        London\n",
       "1                            UK\n",
       "2                     Vagabonds\n",
       "5     ÃT: 36.319708,-82.363649\n",
       "6          35.926541,-78.753267\n",
       "7                       Austria\n",
       "8               Atlanta, GA USA\n",
       "9              BHAVNAGAR,GUJRAT\n",
       "10               Makati, Manila\n",
       "11    Pitt Meadows, BC, Canada \n",
       "Name: Location, dtype: object"
      ]
     },
     "execution_count": 14,
     "metadata": {
      "tags": []
     },
     "output_type": "execute_result"
    }
   ],
   "source": [
    "df.dropna(subset=[\"Location\"],inplace=True)\n",
    "df[\"Location\"].head(10)"
   ]
  },
  {
   "cell_type": "markdown",
   "metadata": {
    "id": "nuEVSWltNtB4"
   },
   "source": [
    "## plot frequency"
   ]
  },
  {
   "cell_type": "code",
   "execution_count": null,
   "metadata": {
    "id": "3Eb5iRBoNtB5",
    "outputId": "832943eb-0ee4-47a2-9d53-8012722669e5"
   },
   "outputs": [
    {
     "data": {
      "image/png": "[encoded data removed]",
      "text/plain": [
       "<Figure size 432x288 with 1 Axes>"
      ]
     },
     "metadata": {
      "needs_background": "light",
      "tags": []
     },
     "output_type": "display_data"
    },
    {
     "data": {
      "text/plain": [
       "<matplotlib.axes._subplots.AxesSubplot at 0x1faaecc9408>"
      ]
     },
     "execution_count": 15,
     "metadata": {
      "tags": []
     },
     "output_type": "execute_result"
    }
   ],
   "source": [
    "hashtags_freq = FreqDist(df[\"Location\"])\n",
    "hashtags_freq.plot(20)"
   ]
  },
  {
   "cell_type": "code",
   "execution_count": null,
   "metadata": {
    "id": "XAvcz9q3NtB5"
   },
   "outputs": [],
   "source": [
    "pd.set_option('max_rows', None)\n",
    "pd.set_option(\"max_colwidth\", 80)\n",
    "\n"
   ]
  },
  {
   "cell_type": "markdown",
   "metadata": {
    "id": "wLpcexUeNtB5",
    "pycharm": {
     "name": "#%% md\n"
    }
   },
   "source": [
    "# Topic Modeling\n"
   ]
  },
  {
   "cell_type": "code",
   "execution_count": 10,
   "metadata": {
    "id": "hDyen20yNtB5",
    "pycharm": {
     "name": "#%%\n"
    }
   },
   "outputs": [],
   "source": [
    "from sklearn.cluster import KMeans\n",
    "from sklearn import metrics\n",
    "from sklearn.preprocessing import normalize\n",
    "from sklearn.decomposition import PCA\n",
    "from scipy.spatial.distance import cdist\n",
    "import numpy as np\n",
    "import matplotlib.pyplot as plt"
   ]
  },
  {
   "cell_type": "code",
   "execution_count": null,
   "metadata": {
    "id": "q8nH0aYzNtB5",
    "pycharm": {
     "name": "#%%\n"
    }
   },
   "outputs": [],
   "source": [
    "true_k = 3\n",
    "docs = df[\"CleanedTweet\"]\n",
    "count_vec = CountVectorizer(stop_words=stop_words)\n",
    "X = count_vec.fit_transform(docs)\n",
    "# model = KMeans(n_clusters=true_k, init='k-means++', max_iter=100, n_init=1)\n",
    "# y_kmeans = model.fit_predict(X)\n",
    "tf_idf_vectorizor = TfidfVectorizer(stop_words = 'english',#tokenizer = tokenize_and_stem,\n",
    "                             max_features = 20000)\n",
    "tf_idf = tf_idf_vectorizor.fit_transform(docs)\n",
    "tf_idf_norm = normalize(tf_idf)\n",
    "tf_idf_array = tf_idf_norm.toarray()"
   ]
  },
  {
   "cell_type": "markdown",
   "metadata": {
    "id": "1sYOgIbtNtB5"
   },
   "source": [
    "### trying with K = 3 "
   ]
  },
  {
   "cell_type": "code",
   "execution_count": null,
   "metadata": {
    "id": "iaNtAaxfNtB6",
    "outputId": "03e69e15-6080-4c87-e2a4-bf655434aed1",
    "pycharm": {
     "name": "#%%\n"
    },
    "scrolled": false
   },
   "outputs": [
    {
     "data": {
      "text/plain": [
       "<matplotlib.collections.PathCollection at 0x1fab6638288>"
      ]
     },
     "execution_count": 19,
     "metadata": {
      "tags": []
     },
     "output_type": "execute_result"
    },
    {
     "data": {
      "image/png": "[encoded data removed]",
      "text/plain": [
       "<Figure size 432x288 with 1 Axes>"
      ]
     },
     "metadata": {
      "needs_background": "light",
      "tags": []
     },
     "output_type": "display_data"
    }
   ],
   "source": [
    "sklearn_pca = PCA(n_components = 2)\n",
    "Y_sklearn = sklearn_pca.fit_transform(tf_idf_array)\n",
    "test_e = KMeans(n_clusters=3, init='k-means++', max_iter=100, n_init=1)\n",
    "fitted = test_e.fit(Y_sklearn)\n",
    "predicted_values = test_e.predict(Y_sklearn)\n",
    "\n",
    "plt.scatter(Y_sklearn[:, 0], Y_sklearn[:, 1], c=predicted_values, s=70, cmap='viridis')\n",
    "plt.scatter(test_e.cluster_centers_[:, 0], test_e.cluster_centers_[:, 1], s=70, c='black', label='Centroids' )\n"
   ]
  },
  {
   "cell_type": "markdown",
   "metadata": {
    "id": "-7tEBOEYNtB6"
   },
   "source": [
    "# Find best K with Elbow Method"
   ]
  },
  {
   "cell_type": "code",
   "execution_count": null,
   "metadata": {
    "id": "ASnPeqgmNtB6",
    "outputId": "e4d31ab4-93a0-4894-d3a5-018e0c1a821b",
    "pycharm": {
     "name": "#%%\n"
    }
   },
   "outputs": [
    {
     "data": {
      "image/png": "[encoded data removed]",
      "text/plain": [
       "<Figure size 432x288 with 1 Axes>"
      ]
     },
     "metadata": {
      "needs_background": "light",
      "tags": []
     },
     "output_type": "display_data"
    }
   ],
   "source": [
    "\n",
    "\n",
    "\n",
    "wcss = []\n",
    "for i in range(1, 11):\n",
    "    kmeans = KMeans(n_clusters=i, init='k-means++', n_init=10, max_iter=300, random_state=0)\n",
    "    kmeans.fit(X)\n",
    "    wcss.append(kmeans.inertia_)\n",
    "plt.plot(range(1,11), wcss)\n",
    "plt.title('Elbow Method')\n",
    "plt.xlabel('Number of Clusters')\n",
    "plt.ylabel('wcss')\n",
    "plt.show()\n"
   ]
  },
  {
   "cell_type": "markdown",
   "metadata": {
    "id": "2r_K9pvENtB6"
   },
   "source": [
    "### Perfect value k = 6"
   ]
  },
  {
   "cell_type": "code",
   "execution_count": null,
   "metadata": {
    "id": "KwbZ6J52NtB6",
    "outputId": "58f6d69e-190a-433c-a388-834260af7447"
   },
   "outputs": [
    {
     "data": {
      "text/plain": [
       "<matplotlib.collections.PathCollection at 0x1fab61f9d48>"
      ]
     },
     "execution_count": 21,
     "metadata": {
      "tags": []
     },
     "output_type": "execute_result"
    },
    {
     "data": {
      "image/png": "[encoded data removed]",
      "text/plain": [
       "<Figure size 432x288 with 1 Axes>"
      ]
     },
     "metadata": {
      "needs_background": "light",
      "tags": []
     },
     "output_type": "display_data"
    }
   ],
   "source": [
    "sklearn_pca = PCA(n_components = 2)\n",
    "Y_sklearn = sklearn_pca.fit_transform(tf_idf_array)\n",
    "kmeans = KMeans(n_clusters= 6 , init='k-means++', max_iter=100, n_init=1)\n",
    "fitted = kmeans.fit(Y_sklearn)\n",
    "predicted_values = kmeans.predict(Y_sklearn)\n",
    "\n",
    "plt.scatter(Y_sklearn[:, 0], Y_sklearn[:, 1], c=predicted_values, s=70, cmap='viridis')\n",
    "plt.scatter(kmeans.cluster_centers_[:, 0], kmeans.cluster_centers_[:, 1], s=70, c='black', label='Centroids' )\n"
   ]
  },
  {
   "cell_type": "markdown",
   "metadata": {
    "id": "I6IhWqhzNtB6"
   },
   "source": [
    "### data starts mixing with k = 8"
   ]
  },
  {
   "cell_type": "code",
   "execution_count": null,
   "metadata": {
    "id": "F5Boi6wlNtB7",
    "outputId": "0630ebeb-b49f-43f4-92d9-a01c6a199860"
   },
   "outputs": [
    {
     "data": {
      "text/plain": [
       "<matplotlib.collections.PathCollection at 0x1fab62e25c8>"
      ]
     },
     "execution_count": 22,
     "metadata": {
      "tags": []
     },
     "output_type": "execute_result"
    },
    {
     "data": {
      "image/png": "[encoded data removed]",
      "text/plain": [
       "<Figure size 432x288 with 1 Axes>"
      ]
     },
     "metadata": {
      "needs_background": "light",
      "tags": []
     },
     "output_type": "display_data"
    }
   ],
   "source": [
    "sklearn_pca = PCA(n_components = 2)\n",
    "Y_sklearn = sklearn_pca.fit_transform(tf_idf_array)\n",
    "kmeans = KMeans(n_clusters= 8 , init='k-means++', max_iter=100, n_init=1)\n",
    "fitted = kmeans.fit(Y_sklearn)\n",
    "predicted_values = kmeans.predict(Y_sklearn)\n",
    "\n",
    "plt.scatter(Y_sklearn[:, 0], Y_sklearn[:, 1], c=predicted_values, s=70, cmap='viridis')\n",
    "plt.scatter(kmeans.cluster_centers_[:, 0], kmeans.cluster_centers_[:, 1], s=70, c='black', label='Centroids' )\n"
   ]
  },
  {
   "cell_type": "markdown",
   "metadata": {
    "id": "Rg8GriIUNtB7"
   },
   "source": [
    "### k = 10"
   ]
  },
  {
   "cell_type": "code",
   "execution_count": null,
   "metadata": {
    "id": "bSlMh1t2NtB7",
    "outputId": "30b916d1-87a0-46f3-99fb-ebcb4f0d7023"
   },
   "outputs": [
    {
     "data": {
      "text/plain": [
       "<matplotlib.collections.PathCollection at 0x1fab6328dc8>"
      ]
     },
     "execution_count": 23,
     "metadata": {
      "tags": []
     },
     "output_type": "execute_result"
    },
    {
     "data": {
      "image/png": "[encoded data removed]",
      "text/plain": [
       "<Figure size 432x288 with 1 Axes>"
      ]
     },
     "metadata": {
      "needs_background": "light",
      "tags": []
     },
     "output_type": "display_data"
    }
   ],
   "source": [
    "sklearn_pca = PCA(n_components = 2)\n",
    "Y_sklearn = sklearn_pca.fit_transform(tf_idf_array)\n",
    "kmeans = KMeans(n_clusters= 10 , init='k-means++', max_iter=100, n_init=1)\n",
    "fitted = kmeans.fit(Y_sklearn)\n",
    "predicted_values = kmeans.predict(Y_sklearn)\n",
    "\n",
    "plt.scatter(Y_sklearn[:, 0], Y_sklearn[:, 1], c=predicted_values, s=70, cmap='viridis')\n",
    "plt.scatter(kmeans.cluster_centers_[:, 0], kmeans.cluster_centers_[:, 1], s=70, c='black', label='Centroids' )\n"
   ]
  },
  {
   "cell_type": "markdown",
   "metadata": {
    "id": "WrRSDn6FNtB8"
   },
   "source": [
    "."
   ]
  },
  {
   "cell_type": "markdown",
   "metadata": {
    "id": "VoKO4a5YNtB8"
   },
   "source": [
    ".\n",
    "\n"
   ]
  },
  {
   "cell_type": "markdown",
   "metadata": {
    "id": "b1gIdXQXNtB8"
   },
   "source": [
    "# Language Models"
   ]
  },
  {
   "cell_type": "code",
   "execution_count": 11,
   "metadata": {
    "id": "BfnNR6R8NtB8"
   },
   "outputs": [],
   "source": [
    "from nltk.lm import MLE\n",
    "from nltk.lm.preprocessing import padded_everygram_pipeline\n",
    "from nltk import word_tokenize, sent_tokenize \n",
    "from nltk.util import trigrams"
   ]
  },
  {
   "cell_type": "code",
   "execution_count": null,
   "metadata": {
    "id": "LVEDUGn5NtB8"
   },
   "outputs": [],
   "source": [
    "n = 3\n",
    "\n",
    "\n",
    "tri_tweet_generator = MLE(n)\n",
    "train_tweets,padded_sent = padded_everygram_pipeline(n,list(docs.apply(word_tokenize)))"
   ]
  },
  {
   "cell_type": "code",
   "execution_count": null,
   "metadata": {
    "id": "GWxTAgwgNtB8"
   },
   "outputs": [],
   "source": [
    "tri_tweet_generator.fit(train_tweets,padded_sent)"
   ]
  },
  {
   "cell_type": "code",
   "execution_count": null,
   "metadata": {
    "id": "FBgr0RKINtB8"
   },
   "outputs": [],
   "source": [
    "from nltk.tokenize.treebank import TreebankWordDetokenizer\n",
    "\n",
    "detokenize = TreebankWordDetokenizer().detokenize\n",
    "def generate_sent(model, num_words, random_seed=42):\n",
    "    \"\"\"\n",
    "    :param model: An ngram language model from `nltk.lm.model`.\n",
    "    :param num_words: Max no. of words to generate.\n",
    "    :param random_seed: Seed value for random.\n",
    "    \"\"\"\n",
    "    content = []\n",
    "    for token in model.generate(num_words, random_seed=random_seed):\n",
    "        if token == '<s>':\n",
    "            continue\n",
    "        if token == '</s>':\n",
    "            break\n",
    "        content.append(token)\n",
    "    return detokenize(content)"
   ]
  },
  {
   "cell_type": "code",
   "execution_count": null,
   "metadata": {
    "id": "eaqe1u1cNtB9",
    "outputId": "23523d6a-920a-4e7b-8f25-3ad6c2910eb9"
   },
   "outputs": [
    {
     "data": {
      "text/plain": [
       "'sale south korea detected day south korea retailer seen unprecedented'"
      ]
     },
     "execution_count": 32,
     "metadata": {
      "tags": []
     },
     "output_type": "execute_result"
    }
   ],
   "source": [
    "generate_sent(tri_tweet_generator,10,6)"
   ]
  },
  {
   "cell_type": "markdown",
   "metadata": {
    "id": "kV1AWyWoNtB9"
   },
   "source": [
    "# Sentiment Analysis"
   ]
  },
  {
   "cell_type": "code",
   "execution_count": 12,
   "metadata": {
    "id": "HvFSsqeANtB9"
   },
   "outputs": [],
   "source": [
    "from sklearn.naive_bayes import MultinomialNB\n",
    "from sklearn.linear_model import LogisticRegression, RidgeClassifier\n",
    "from sklearn.metrics import accuracy_score\n",
    "\n",
    "from sklearn.feature_extraction.text import CountVectorizer\n",
    "from sklearn.feature_extraction.text import TfidfTransformer"
   ]
  },
  {
   "cell_type": "markdown",
   "metadata": {
    "id": "YYwWPPZHNtB9"
   },
   "source": [
    "### TF-IDF"
   ]
  },
  {
   "cell_type": "code",
   "execution_count": 15,
   "metadata": {
    "id": "K35BgaspNtB9"
   },
   "outputs": [],
   "source": [
    "tf_idf_vectorizor = TfidfVectorizer(stop_words = 'english')\n",
    "tf_idf = tf_idf_vectorizor.fit_transform(X_train)\n",
    "tf_idf_norm = normalize(tf_idf)\n",
    "X_train_tf_idf = tf_idf_norm.toarray()\n",
    "\n",
    " "
   ]
  },
  {
   "cell_type": "code",
   "execution_count": 16,
   "metadata": {
    "id": "Y1vUEAuGNtB9"
   },
   "outputs": [
    {
     "data": {
      "text/plain": [
       "RidgeClassifier()"
      ]
     },
     "execution_count": 16,
     "metadata": {},
     "output_type": "execute_result"
    }
   ],
   "source": [
    "ridgeClassifier = RidgeClassifier()\n",
    "ridgeClassifier.fit(X_train_tf_idf,y_train)"
   ]
  },
  {
   "cell_type": "code",
   "execution_count": 17,
   "metadata": {
    "id": "pbj9-gm4NtB9"
   },
   "outputs": [
    {
     "name": "stdout",
     "output_type": "stream",
     "text": [
      "Tfidf Accuracy: 0.5329574178495042\n"
     ]
    }
   ],
   "source": [
    "X_test_tfidf = tf_idf_vectorizor.transform(X_test)\n",
    "y_test_predicted_labels_tfidf = ridgeClassifier.predict(X_test_tfidf)\n",
    "\n",
    "print('Tfidf Accuracy: ' + str(accuracy_score(y_test, y_test_predicted_labels_tfidf)))"
   ]
  },
  {
   "cell_type": "code",
   "execution_count": 18,
   "metadata": {
    "id": "l-EWyqgiNtB-"
   },
   "outputs": [
    {
     "data": {
      "text/plain": [
       "MultinomialNB()"
      ]
     },
     "execution_count": 18,
     "metadata": {},
     "output_type": "execute_result"
    }
   ],
   "source": [
    "clf = MultinomialNB()\n",
    "clf.fit(X_train_tf_idf, y_train)"
   ]
  },
  {
   "cell_type": "code",
   "execution_count": 19,
   "metadata": {
    "id": "OLqigeFRNtB-",
    "outputId": "26d28565-f442-4832-dcaa-218424f59839"
   },
   "outputs": [
    {
     "name": "stdout",
     "output_type": "stream",
     "text": [
      "Naive Bayes Accuracy TF-IDF: 0.38780867198133384\n"
     ]
    }
   ],
   "source": [
    "X_test_tfidf = tf_idf_vectorizor.transform(X_test)\n",
    "y_test_predicted_labels_tfidf_NB = clf.predict(X_test_tfidf)\n",
    "print('Naive Bayes Accuracy TF-IDF: ' + str(accuracy_score(y_test, y_test_predicted_labels_tfidf_NB)))\n",
    "m"
   ]
  },
  {
   "cell_type": "markdown",
   "metadata": {
    "id": "pSY4vattNtB-"
   },
   "source": [
    "### BOW\n"
   ]
  },
  {
   "cell_type": "code",
   "execution_count": 21,
   "metadata": {
    "id": "NuEt2FImNtB-",
    "outputId": "77a269e4-9b9f-4cc8-d88d-acb51ab5ed0a"
   },
   "outputs": [
    {
     "data": {
      "text/plain": [
       "RidgeClassifier()"
      ]
     },
     "execution_count": 21,
     "metadata": {},
     "output_type": "execute_result"
    }
   ],
   "source": [
    "cv = CountVectorizer(ngram_range=(1,4))\n",
    "X_train_cv = cv.fit_transform(X_train)\n",
    "\n",
    "ridgeClassifier = RidgeClassifier()\n",
    "ridgeClassifier.fit(X_train_cv,y_train)"
   ]
  },
  {
   "cell_type": "code",
   "execution_count": 22,
   "metadata": {
    "id": "axanQsN6NtB-",
    "outputId": "b9bbf20a-33d3-4ba6-fede-2e96b9c6d778"
   },
   "outputs": [
    {
     "name": "stdout",
     "output_type": "stream",
     "text": [
      "Count Vectorizer Accuracy: 0.5357767839782228\n"
     ]
    }
   ],
   "source": [
    "X_test_cv = cv.transform(X_test)\n",
    "y_test_predicted_cv = ridgeClassifier.predict(X_test_cv)\n",
    "\n",
    "print('Count Vectorizer Accuracy: ' + str(accuracy_score(y_test, y_test_predicted_cv)))"
   ]
  },
  {
   "cell_type": "code",
   "execution_count": 23,
   "metadata": {
    "id": "BbA78SQ1NtB-"
   },
   "outputs": [],
   "source": [
    "from sklearn.linear_model import LogisticRegression\n",
    "from sklearn.ensemble import RandomForestClassifier\n",
    "from sklearn.svm import LinearSVC\n",
    "from sklearn.model_selection import cross_val_score\n",
    "import seaborn as sns\n",
    "from sklearn.multiclass import OneVsRestClassifier\n",
    "from sklearn.calibration import CalibratedClassifierCV\n"
   ]
  },
  {
   "cell_type": "code",
   "execution_count": 25,
   "metadata": {
    "id": "Cthz7ZTsNtB_"
   },
   "outputs": [
    {
     "name": "stderr",
     "output_type": "stream",
     "text": [
      "/Users/ammar0ah/opt/anaconda3/lib/python3.8/site-packages/sklearn/linear_model/_logistic.py:762: ConvergenceWarning: lbfgs failed to converge (status=1):\n",
      "STOP: TOTAL NO. of ITERATIONS REACHED LIMIT.\n",
      "\n",
      "Increase the number of iterations (max_iter) or scale the data as shown in:\n",
      "    https://scikit-learn.org/stable/modules/preprocessing.html\n",
      "Please also refer to the documentation for alternative solver options:\n",
      "    https://scikit-learn.org/stable/modules/linear_model.html#logistic-regression\n",
      "  n_iter_i = _check_optimize_result(\n",
      "/Users/ammar0ah/opt/anaconda3/lib/python3.8/site-packages/sklearn/linear_model/_logistic.py:762: ConvergenceWarning: lbfgs failed to converge (status=1):\n",
      "STOP: TOTAL NO. of ITERATIONS REACHED LIMIT.\n",
      "\n",
      "Increase the number of iterations (max_iter) or scale the data as shown in:\n",
      "    https://scikit-learn.org/stable/modules/preprocessing.html\n",
      "Please also refer to the documentation for alternative solver options:\n",
      "    https://scikit-learn.org/stable/modules/linear_model.html#logistic-regression\n",
      "  n_iter_i = _check_optimize_result(\n",
      "/Users/ammar0ah/opt/anaconda3/lib/python3.8/site-packages/sklearn/linear_model/_logistic.py:762: ConvergenceWarning: lbfgs failed to converge (status=1):\n",
      "STOP: TOTAL NO. of ITERATIONS REACHED LIMIT.\n",
      "\n",
      "Increase the number of iterations (max_iter) or scale the data as shown in:\n",
      "    https://scikit-learn.org/stable/modules/preprocessing.html\n",
      "Please also refer to the documentation for alternative solver options:\n",
      "    https://scikit-learn.org/stable/modules/linear_model.html#logistic-regression\n",
      "  n_iter_i = _check_optimize_result(\n",
      "/Users/ammar0ah/opt/anaconda3/lib/python3.8/site-packages/sklearn/linear_model/_logistic.py:762: ConvergenceWarning: lbfgs failed to converge (status=1):\n",
      "STOP: TOTAL NO. of ITERATIONS REACHED LIMIT.\n",
      "\n",
      "Increase the number of iterations (max_iter) or scale the data as shown in:\n",
      "    https://scikit-learn.org/stable/modules/preprocessing.html\n",
      "Please also refer to the documentation for alternative solver options:\n",
      "    https://scikit-learn.org/stable/modules/linear_model.html#logistic-regression\n",
      "  n_iter_i = _check_optimize_result(\n",
      "/Users/ammar0ah/opt/anaconda3/lib/python3.8/site-packages/sklearn/linear_model/_logistic.py:762: ConvergenceWarning: lbfgs failed to converge (status=1):\n",
      "STOP: TOTAL NO. of ITERATIONS REACHED LIMIT.\n",
      "\n",
      "Increase the number of iterations (max_iter) or scale the data as shown in:\n",
      "    https://scikit-learn.org/stable/modules/preprocessing.html\n",
      "Please also refer to the documentation for alternative solver options:\n",
      "    https://scikit-learn.org/stable/modules/linear_model.html#logistic-regression\n",
      "  n_iter_i = _check_optimize_result(\n"
     ]
    },
    {
     "data": {
      "image/png": "[encoded data removed]",
      "text/plain": [
       "<Figure size 432x288 with 1 Axes>"
      ]
     },
     "metadata": {
      "needs_background": "light"
     },
     "output_type": "display_data"
    }
   ],
   "source": [
    "\n",
    "\n",
    "models = [\n",
    "    RandomForestClassifier(n_estimators=200, max_depth=3, random_state=0),\n",
    "    LinearSVC(),\n",
    "    MultinomialNB(),\n",
    "    LogisticRegression(random_state=0),\n",
    "]\n",
    "CV = 5\n",
    "cv_df = pd.DataFrame(index=range(CV * len(models)))\n",
    "entries = []\n",
    "for model in models:\n",
    "  model_name = model.__class__.__name__\n",
    "  accuracies = cross_val_score(model, X_test_cv, y_test_predicted_cv, scoring='accuracy', cv=CV)\n",
    "  for fold_idx, accuracy in enumerate(accuracies):\n",
    "    entries.append((model_name, fold_idx, accuracy))\n",
    "cv_df = pd.DataFrame(entries, columns=['model_name', 'fold_idx', 'accuracy'])\n",
    "sns.boxplot(x='model_name', y='accuracy', data=cv_df)\n",
    "sns.stripplot(x='model_name', y='accuracy', data=cv_df, \n",
    "              size=8, jitter=True, edgecolor=\"gray\", linewidth=2)\n",
    "plt.show()"
   ]
  },
  {
   "cell_type": "code",
   "execution_count": 26,
   "metadata": {
    "id": "qKASEXOJNtB_"
   },
   "outputs": [
    {
     "data": {
      "text/plain": [
       "model_name\n",
       "LinearSVC                 0.676939\n",
       "LogisticRegression        0.681801\n",
       "MultinomialNB             0.473460\n",
       "RandomForestClassifier    0.299825\n",
       "Name: accuracy, dtype: float64"
      ]
     },
     "execution_count": 26,
     "metadata": {},
     "output_type": "execute_result"
    }
   ],
   "source": [
    "cv_df.groupby('model_name').accuracy.mean()"
   ]
  },
  {
   "cell_type": "code",
   "execution_count": null,
   "metadata": {
    "id": "y9AvX-inNtB_"
   },
   "outputs": [],
   "source": [
    "svc0 = CalibratedClassifierCV(LinearSVC(),cv=10)\n",
    "svc= OneVsRestClassifier(svc0)"
   ]
  },
  {
   "cell_type": "code",
   "execution_count": null,
   "metadata": {
    "id": "4N7P5DReNtB_",
    "outputId": "81dbeb2e-dc3c-4ff7-d87e-31b32d0e1ca5"
   },
   "outputs": [
    {
     "data": {
      "text/plain": [
       "OneVsRestClassifier(estimator=CalibratedClassifierCV(base_estimator=LinearSVC(),\n",
       "                                                     cv=10))"
      ]
     },
     "execution_count": 35,
     "metadata": {
      "tags": []
     },
     "output_type": "execute_result"
    }
   ],
   "source": [
    "svc.fit(X_train_tf_idf,y_train)"
   ]
  },
  {
   "cell_type": "code",
   "execution_count": null,
   "metadata": {
    "id": "-CTBCOwwNtCA",
    "outputId": "3c7d25ac-849e-498a-85d5-cceb467605f1"
   },
   "outputs": [
    {
     "name": "stdout",
     "output_type": "stream",
     "text": [
      "Linear SVC TF-IDF Accuracy: 0.5643593233521291\n"
     ]
    }
   ],
   "source": [
    "prediction_svc = svc.predict(X_test_tfidf)\n",
    "print('Linear SVC TF-IDF Accuracy: ' + str(accuracy_score(y_test, prediction_svc)))"
   ]
  },
  {
   "cell_type": "markdown",
   "metadata": {
    "id": "kHZdG3-oNtCA"
   },
   "source": [
    "### Linear SVC with Count Vectorizer"
   ]
  },
  {
   "cell_type": "code",
   "execution_count": null,
   "metadata": {
    "id": "yDcw7JTPNtCA",
    "outputId": "b41505e4-5b6f-4afc-aa5a-b6e7dc6762ca"
   },
   "outputs": [
    {
     "name": "stderr",
     "output_type": "stream",
     "text": [
      "/Users/ammar0ah/opt/anaconda3/lib/python3.8/site-packages/sklearn/svm/_base.py:976: ConvergenceWarning: Liblinear failed to converge, increase the number of iterations.\n",
      "  warnings.warn(\"Liblinear failed to converge, increase \"\n",
      "/Users/ammar0ah/opt/anaconda3/lib/python3.8/site-packages/sklearn/svm/_base.py:976: ConvergenceWarning: Liblinear failed to converge, increase the number of iterations.\n",
      "  warnings.warn(\"Liblinear failed to converge, increase \"\n",
      "/Users/ammar0ah/opt/anaconda3/lib/python3.8/site-packages/sklearn/svm/_base.py:976: ConvergenceWarning: Liblinear failed to converge, increase the number of iterations.\n",
      "  warnings.warn(\"Liblinear failed to converge, increase \"\n",
      "/Users/ammar0ah/opt/anaconda3/lib/python3.8/site-packages/sklearn/svm/_base.py:976: ConvergenceWarning: Liblinear failed to converge, increase the number of iterations.\n",
      "  warnings.warn(\"Liblinear failed to converge, increase \"\n",
      "/Users/ammar0ah/opt/anaconda3/lib/python3.8/site-packages/sklearn/svm/_base.py:976: ConvergenceWarning: Liblinear failed to converge, increase the number of iterations.\n",
      "  warnings.warn(\"Liblinear failed to converge, increase \"\n",
      "/Users/ammar0ah/opt/anaconda3/lib/python3.8/site-packages/sklearn/svm/_base.py:976: ConvergenceWarning: Liblinear failed to converge, increase the number of iterations.\n",
      "  warnings.warn(\"Liblinear failed to converge, increase \"\n",
      "/Users/ammar0ah/opt/anaconda3/lib/python3.8/site-packages/sklearn/svm/_base.py:976: ConvergenceWarning: Liblinear failed to converge, increase the number of iterations.\n",
      "  warnings.warn(\"Liblinear failed to converge, increase \"\n",
      "/Users/ammar0ah/opt/anaconda3/lib/python3.8/site-packages/sklearn/svm/_base.py:976: ConvergenceWarning: Liblinear failed to converge, increase the number of iterations.\n",
      "  warnings.warn(\"Liblinear failed to converge, increase \"\n",
      "/Users/ammar0ah/opt/anaconda3/lib/python3.8/site-packages/sklearn/svm/_base.py:976: ConvergenceWarning: Liblinear failed to converge, increase the number of iterations.\n",
      "  warnings.warn(\"Liblinear failed to converge, increase \"\n",
      "/Users/ammar0ah/opt/anaconda3/lib/python3.8/site-packages/sklearn/svm/_base.py:976: ConvergenceWarning: Liblinear failed to converge, increase the number of iterations.\n",
      "  warnings.warn(\"Liblinear failed to converge, increase \"\n",
      "/Users/ammar0ah/opt/anaconda3/lib/python3.8/site-packages/sklearn/svm/_base.py:976: ConvergenceWarning: Liblinear failed to converge, increase the number of iterations.\n",
      "  warnings.warn(\"Liblinear failed to converge, increase \"\n",
      "/Users/ammar0ah/opt/anaconda3/lib/python3.8/site-packages/sklearn/svm/_base.py:976: ConvergenceWarning: Liblinear failed to converge, increase the number of iterations.\n",
      "  warnings.warn(\"Liblinear failed to converge, increase \"\n",
      "/Users/ammar0ah/opt/anaconda3/lib/python3.8/site-packages/sklearn/svm/_base.py:976: ConvergenceWarning: Liblinear failed to converge, increase the number of iterations.\n",
      "  warnings.warn(\"Liblinear failed to converge, increase \"\n",
      "/Users/ammar0ah/opt/anaconda3/lib/python3.8/site-packages/sklearn/svm/_base.py:976: ConvergenceWarning: Liblinear failed to converge, increase the number of iterations.\n",
      "  warnings.warn(\"Liblinear failed to converge, increase \"\n",
      "/Users/ammar0ah/opt/anaconda3/lib/python3.8/site-packages/sklearn/svm/_base.py:976: ConvergenceWarning: Liblinear failed to converge, increase the number of iterations.\n",
      "  warnings.warn(\"Liblinear failed to converge, increase \"\n",
      "/Users/ammar0ah/opt/anaconda3/lib/python3.8/site-packages/sklearn/svm/_base.py:976: ConvergenceWarning: Liblinear failed to converge, increase the number of iterations.\n",
      "  warnings.warn(\"Liblinear failed to converge, increase \"\n"
     ]
    },
    {
     "name": "stdout",
     "output_type": "stream",
     "text": [
      "Linear SVC Accuracy: 0.5880808866420377\n"
     ]
    }
   ],
   "source": [
    "svc.fit(X_train_cv,y_train)\n",
    "prediction_svc = svc.predict(X_test_cv)\n",
    "print('Linear SVC Accuracy: ' + str(accuracy_score(y_test, prediction_svc)))"
   ]
  },
  {
   "cell_type": "markdown",
   "metadata": {},
   "source": [
    "### LogisticRegrission BOW"
   ]
  },
  {
   "cell_type": "code",
   "execution_count": 48,
   "metadata": {
    "id": "p9oW0zN_NtCA"
   },
   "outputs": [
    {
     "name": "stdout",
     "output_type": "stream",
     "text": [
      "LogisticRegrission BOW Accuracy: 0.5796227882558818\n"
     ]
    },
    {
     "name": "stderr",
     "output_type": "stream",
     "text": [
      "/Users/ammar0ah/opt/anaconda3/lib/python3.8/site-packages/sklearn/linear_model/_logistic.py:762: ConvergenceWarning: lbfgs failed to converge (status=1):\n",
      "STOP: TOTAL NO. of ITERATIONS REACHED LIMIT.\n",
      "\n",
      "Increase the number of iterations (max_iter) or scale the data as shown in:\n",
      "    https://scikit-learn.org/stable/modules/preprocessing.html\n",
      "Please also refer to the documentation for alternative solver options:\n",
      "    https://scikit-learn.org/stable/modules/linear_model.html#logistic-regression\n",
      "  n_iter_i = _check_optimize_result(\n"
     ]
    }
   ],
   "source": [
    "logistic = LogisticRegression()\n",
    "logistic.fit(X_train_cv,y_train)\n",
    "predict_log = logistic.predict(X_test_cv)\n",
    "print('LogisticRegrission BOW Accuracy: ' + str(accuracy_score(y_test, predict_log)))"
   ]
  },
  {
   "cell_type": "markdown",
   "metadata": {},
   "source": [
    "### LinearSVC 2 classes"
   ]
  },
  {
   "cell_type": "code",
   "execution_count": null,
   "metadata": {
    "id": "8t7MnOl9NtCA",
    "outputId": "febddef9-c63b-4192-f9ec-0324301963aa"
   },
   "outputs": [
    {
     "data": {
      "text/html": [
       "<div>\n",
       "<style scoped>\n",
       "    .dataframe tbody tr th:only-of-type {\n",
       "        vertical-align: middle;\n",
       "    }\n",
       "\n",
       "    .dataframe tbody tr th {\n",
       "        vertical-align: top;\n",
       "    }\n",
       "\n",
       "    .dataframe thead th {\n",
       "        text-align: right;\n",
       "    }\n",
       "</style>\n",
       "<table border=\"1\" class=\"dataframe\">\n",
       "  <thead>\n",
       "    <tr style=\"text-align: right;\">\n",
       "      <th></th>\n",
       "      <th>UserName</th>\n",
       "      <th>ScreenName</th>\n",
       "      <th>Location</th>\n",
       "      <th>TweetAt</th>\n",
       "      <th>OriginalTweet</th>\n",
       "      <th>Sentiment</th>\n",
       "      <th>CleanedTweet</th>\n",
       "    </tr>\n",
       "  </thead>\n",
       "  <tbody>\n",
       "    <tr>\n",
       "      <th>9</th>\n",
       "      <td>3808</td>\n",
       "      <td>48760</td>\n",
       "      <td>BHAVNAGAR,GUJRAT</td>\n",
       "      <td>16-03-2020</td>\n",
       "      <td>For corona prevention,we should stop to buy th...</td>\n",
       "      <td>Negative</td>\n",
       "      <td>corona preventionwe stop buy thing cash use on...</td>\n",
       "    </tr>\n",
       "    <tr>\n",
       "      <th>24</th>\n",
       "      <td>3823</td>\n",
       "      <td>48775</td>\n",
       "      <td>Downstage centre</td>\n",
       "      <td>16-03-2020</td>\n",
       "      <td>@10DowningStreet @grantshapps what is being do...</td>\n",
       "      <td>Negative</td>\n",
       "      <td>downingstreet grantshapps done ensure food ess...</td>\n",
       "    </tr>\n",
       "    <tr>\n",
       "      <th>26</th>\n",
       "      <td>3825</td>\n",
       "      <td>48777</td>\n",
       "      <td>Ketchum, Idaho</td>\n",
       "      <td>16-03-2020</td>\n",
       "      <td>In preparation for higher demand and a potenti...</td>\n",
       "      <td>Negative</td>\n",
       "      <td>preparation higher demand potential food short...</td>\n",
       "    </tr>\n",
       "    <tr>\n",
       "      <th>28</th>\n",
       "      <td>3827</td>\n",
       "      <td>48779</td>\n",
       "      <td>New York, NY</td>\n",
       "      <td>16-03-2020</td>\n",
       "      <td>Do you see malicious price increases in NYC? T...</td>\n",
       "      <td>Negative</td>\n",
       "      <td>see malicious price increase nyc nyc departmen...</td>\n",
       "    </tr>\n",
       "    <tr>\n",
       "      <th>30</th>\n",
       "      <td>3829</td>\n",
       "      <td>48781</td>\n",
       "      <td>NaN</td>\n",
       "      <td>16-03-2020</td>\n",
       "      <td>There Is of in the Country  The more empty she...</td>\n",
       "      <td>Negative</td>\n",
       "      <td>country empty shelf people see buying ensues f...</td>\n",
       "    </tr>\n",
       "    <tr>\n",
       "      <th>...</th>\n",
       "      <td>...</td>\n",
       "      <td>...</td>\n",
       "      <td>...</td>\n",
       "      <td>...</td>\n",
       "      <td>...</td>\n",
       "      <td>...</td>\n",
       "      <td>...</td>\n",
       "    </tr>\n",
       "    <tr>\n",
       "      <th>41127</th>\n",
       "      <td>44926</td>\n",
       "      <td>89878</td>\n",
       "      <td>NaN</td>\n",
       "      <td>14-04-2020</td>\n",
       "      <td>Today at the grocery store I saw someone getti...</td>\n",
       "      <td>Negative</td>\n",
       "      <td>today grocery store saw someone getting case c...</td>\n",
       "    </tr>\n",
       "    <tr>\n",
       "      <th>41131</th>\n",
       "      <td>44930</td>\n",
       "      <td>89882</td>\n",
       "      <td>Accra, Ghana</td>\n",
       "      <td>14-04-2020</td>\n",
       "      <td>In every human affliction there are  gainers a...</td>\n",
       "      <td>Negative</td>\n",
       "      <td>every human affliction gainer loser case covid...</td>\n",
       "    </tr>\n",
       "    <tr>\n",
       "      <th>41147</th>\n",
       "      <td>44946</td>\n",
       "      <td>89898</td>\n",
       "      <td>Brooklyn, NY</td>\n",
       "      <td>14-04-2020</td>\n",
       "      <td>YÂall really shitting that much more at home?...</td>\n",
       "      <td>Negative</td>\n",
       "      <td>really shitting much home covid coronavirus to...</td>\n",
       "    </tr>\n",
       "    <tr>\n",
       "      <th>41149</th>\n",
       "      <td>44948</td>\n",
       "      <td>89900</td>\n",
       "      <td>Toronto, Ontario</td>\n",
       "      <td>14-04-2020</td>\n",
       "      <td>Still shocked by the number of #Toronto superm...</td>\n",
       "      <td>Negative</td>\n",
       "      <td>still shocked number toronto supermarket emplo...</td>\n",
       "    </tr>\n",
       "    <tr>\n",
       "      <th>41156</th>\n",
       "      <td>44955</td>\n",
       "      <td>89907</td>\n",
       "      <td>i love you so much || he/him</td>\n",
       "      <td>14-04-2020</td>\n",
       "      <td>@TartiiCat Well new/used Rift S are going for ...</td>\n",
       "      <td>Negative</td>\n",
       "      <td>tartiicat well newused rift going amazon rn al...</td>\n",
       "    </tr>\n",
       "  </tbody>\n",
       "</table>\n",
       "<p>9917 rows × 7 columns</p>\n",
       "</div>"
      ],
      "text/plain": [
       "       UserName  ScreenName                      Location     TweetAt  \\\n",
       "9          3808       48760              BHAVNAGAR,GUJRAT  16-03-2020   \n",
       "24         3823       48775              Downstage centre  16-03-2020   \n",
       "26         3825       48777                Ketchum, Idaho  16-03-2020   \n",
       "28         3827       48779                  New York, NY  16-03-2020   \n",
       "30         3829       48781                           NaN  16-03-2020   \n",
       "...         ...         ...                           ...         ...   \n",
       "41127     44926       89878                           NaN  14-04-2020   \n",
       "41131     44930       89882                  Accra, Ghana  14-04-2020   \n",
       "41147     44946       89898                  Brooklyn, NY  14-04-2020   \n",
       "41149     44948       89900              Toronto, Ontario  14-04-2020   \n",
       "41156     44955       89907  i love you so much || he/him  14-04-2020   \n",
       "\n",
       "                                           OriginalTweet Sentiment  \\\n",
       "9      For corona prevention,we should stop to buy th...  Negative   \n",
       "24     @10DowningStreet @grantshapps what is being do...  Negative   \n",
       "26     In preparation for higher demand and a potenti...  Negative   \n",
       "28     Do you see malicious price increases in NYC? T...  Negative   \n",
       "30     There Is of in the Country  The more empty she...  Negative   \n",
       "...                                                  ...       ...   \n",
       "41127  Today at the grocery store I saw someone getti...  Negative   \n",
       "41131  In every human affliction there are  gainers a...  Negative   \n",
       "41147  YÂall really shitting that much more at home?...  Negative   \n",
       "41149  Still shocked by the number of #Toronto superm...  Negative   \n",
       "41156  @TartiiCat Well new/used Rift S are going for ...  Negative   \n",
       "\n",
       "                                            CleanedTweet  \n",
       "9      corona preventionwe stop buy thing cash use on...  \n",
       "24     downingstreet grantshapps done ensure food ess...  \n",
       "26     preparation higher demand potential food short...  \n",
       "28     see malicious price increase nyc nyc departmen...  \n",
       "30     country empty shelf people see buying ensues f...  \n",
       "...                                                  ...  \n",
       "41127  today grocery store saw someone getting case c...  \n",
       "41131  every human affliction gainer loser case covid...  \n",
       "41147  really shitting much home covid coronavirus to...  \n",
       "41149  still shocked number toronto supermarket emplo...  \n",
       "41156  tartiicat well newused rift going amazon rn al...  \n",
       "\n",
       "[9917 rows x 7 columns]"
      ]
     },
     "execution_count": 44,
     "metadata": {
      "tags": []
     },
     "output_type": "execute_result"
    }
   ],
   "source": [
    "df[df[\"Sentiment\"] == \"Negative\"]a"
   ]
  },
  {
   "cell_type": "code",
   "execution_count": null,
   "metadata": {
    "id": "05dwXpM_NtCA",
    "outputId": "2882a54a-86d2-4850-f455-8e6b7bf3996c"
   },
   "outputs": [
    {
     "name": "stdout",
     "output_type": "stream",
     "text": [
      "Sentiment       33444\n",
      "CleanedTweet    33444\n",
      "dtype: int64\n"
     ]
    }
   ],
   "source": [
    "cols = {\"Sentiment\":df[\"Sentiment\"],\"CleanedTweet\":df[\"CleanedTweet\"]}\n",
    "binary_df = pd.DataFrame(cols)\n",
    "binary_df[binary_df[\"Sentiment\"]==\"Extremely Negative\"] = \"Negative\"\n",
    "binary_df[binary_df[\"Sentiment\"] ==\"Extremely Positive\"] = \"Positive\"\n",
    "print(binary_df[binary_df[\"Sentiment\"] == \"Negative\"].count()+binary_df[binary_df[\"Sentiment\"] == \"Positive\"].count())\n"
   ]
  },
  {
   "cell_type": "code",
   "execution_count": null,
   "metadata": {
    "id": "dDtSCLNYNtCA",
    "outputId": "77d09d1d-04a5-459b-916b-4800e6fa0872"
   },
   "outputs": [
    {
     "name": "stdout",
     "output_type": "stream",
     "text": [
      "Sentiment       33444\n",
      "CleanedTweet    33444\n",
      "dtype: int64\n",
      "Sentiment       33444\n",
      "CleanedTweet    33444\n",
      "dtype: int64\n"
     ]
    }
   ],
   "source": [
    "print(binary_df[binary_df[\"Sentiment\"] == \"Negative\"].count()+binary_df[binary_df[\"Sentiment\"] == \"Positive\"].count())\n",
    "neutral = binary_df[binary_df[\"Sentiment\"] == \"Neutral\"]\n",
    "print(binary_df[binary_df[\"Sentiment\"] == \"Negative\"].count()+binary_df[binary_df[\"Sentiment\"] == \"Positive\"].count())\n"
   ]
  },
  {
   "cell_type": "code",
   "execution_count": null,
   "metadata": {
    "id": "QRqtqWOrNtCB"
   },
   "outputs": [],
   "source": [
    "mask = binary_df.loc[binary_df[\"Sentiment\"] == \"Neutral\"][:len(neutral)//2 - 1]\n",
    "mask[\"Sentiment\"] = \"Negative\""
   ]
  },
  {
   "cell_type": "code",
   "execution_count": null,
   "metadata": {
    "id": "rei0C0DtNtCB"
   },
   "outputs": [],
   "source": [
    "counter = 0\n",
    "for i,sentiment in enumerate(binary_df[\"Sentiment\"]):\n",
    "    if sentiment == \"Neutral\":\n",
    "           counter +=1\n",
    "           binary_df[\"Sentiment\"][i] = \"Negative\"\n",
    "    if i == len(neutral) // 2 - 1:\n",
    "        break\n",
    "\n",
    "for sentiment in binary_df[\"Sentiment\"][len(neutral)//2:]:\n",
    "    if sentiment == \"Neutral\":\n",
    "        binary_df[\"Sentiment\"][i] = \"Positive\"\n",
    "    "
   ]
  },
  {
   "cell_type": "code",
   "execution_count": null,
   "metadata": {
    "id": "UFYahZyjNtCB",
    "outputId": "ded03db7-aef8-48e0-e851-0c61b9013dcb"
   },
   "outputs": [
    {
     "name": "stdout",
     "output_type": "stream",
     "text": [
      "Sentiment       15789\n",
      "CleanedTweet    15789\n",
      "dtype: int64 Sentiment       17782\n",
      "CleanedTweet    17782\n",
      "dtype: int64\n"
     ]
    },
    {
     "name": "stderr",
     "output_type": "stream",
     "text": [
      "<ipython-input-136-835df544eb98>:1: UserWarning: Boolean Series key will be reindexed to match DataFrame index.\n",
      "  print(binary_df[binary_df[\"Sentiment\"] == \"Negative\"].count(),binary_df[binary_df[\"Sentiment\"] == \"Positive\"].count())\n"
     ]
    }
   ],
   "source": [
    "print(binary_df[binary_df[\"Sentiment\"] == \"Negative\"].count(),binary_df[binary_df[\"Sentiment\"] == \"Positive\"].count())"
   ]
  },
  {
   "cell_type": "code",
   "execution_count": null,
   "metadata": {
    "id": "xi7RW4WRNtCB",
    "outputId": "2ce21493-9209-4a14-aa0e-b91de647acec"
   },
   "outputs": [
    {
     "data": {
      "text/html": [
       "<div>\n",
       "<style scoped>\n",
       "    .dataframe tbody tr th:only-of-type {\n",
       "        vertical-align: middle;\n",
       "    }\n",
       "\n",
       "    .dataframe tbody tr th {\n",
       "        vertical-align: top;\n",
       "    }\n",
       "\n",
       "    .dataframe thead th {\n",
       "        text-align: right;\n",
       "    }\n",
       "</style>\n",
       "<table border=\"1\" class=\"dataframe\">\n",
       "  <thead>\n",
       "    <tr style=\"text-align: right;\">\n",
       "      <th></th>\n",
       "      <th>Sentiment</th>\n",
       "      <th>CleanedTweet</th>\n",
       "    </tr>\n",
       "  </thead>\n",
       "  <tbody>\n",
       "    <tr>\n",
       "      <th>0</th>\n",
       "      <td>Negative</td>\n",
       "      <td>menyrbie philgahan chrisitv</td>\n",
       "    </tr>\n",
       "    <tr>\n",
       "      <th>1</th>\n",
       "      <td>Positive</td>\n",
       "      <td>advice talk neighbour family exchange phone nu...</td>\n",
       "    </tr>\n",
       "    <tr>\n",
       "      <th>2</th>\n",
       "      <td>Positive</td>\n",
       "      <td>coronavirus australia woolworth give elderly d...</td>\n",
       "    </tr>\n",
       "    <tr>\n",
       "      <th>3</th>\n",
       "      <td>Positive</td>\n",
       "      <td>food stock one empty please dont panic enough ...</td>\n",
       "    </tr>\n",
       "    <tr>\n",
       "      <th>4</th>\n",
       "      <td>Negative</td>\n",
       "      <td>Negative</td>\n",
       "    </tr>\n",
       "    <tr>\n",
       "      <th>...</th>\n",
       "      <td>...</td>\n",
       "      <td>...</td>\n",
       "    </tr>\n",
       "    <tr>\n",
       "      <th>96</th>\n",
       "      <td>Positive</td>\n",
       "      <td>kroger biggest supermarket chain united state ...</td>\n",
       "    </tr>\n",
       "    <tr>\n",
       "      <th>97</th>\n",
       "      <td>Positive</td>\n",
       "      <td>kroger instead paid sick leave kroger providin...</td>\n",
       "    </tr>\n",
       "    <tr>\n",
       "      <th>98</th>\n",
       "      <td>Positive</td>\n",
       "      <td>followed went shopping day ago pain necessary ...</td>\n",
       "    </tr>\n",
       "    <tr>\n",
       "      <th>99</th>\n",
       "      <td>Negative</td>\n",
       "      <td>joncoopertweets took picture today home grocer...</td>\n",
       "    </tr>\n",
       "    <tr>\n",
       "      <th>100</th>\n",
       "      <td>Negative</td>\n",
       "      <td>Negative</td>\n",
       "    </tr>\n",
       "  </tbody>\n",
       "</table>\n",
       "<p>100 rows × 2 columns</p>\n",
       "</div>"
      ],
      "text/plain": [
       "    Sentiment                                       CleanedTweet\n",
       "0    Negative                        menyrbie philgahan chrisitv\n",
       "1    Positive  advice talk neighbour family exchange phone nu...\n",
       "2    Positive  coronavirus australia woolworth give elderly d...\n",
       "3    Positive  food stock one empty please dont panic enough ...\n",
       "4    Negative                                           Negative\n",
       "..        ...                                                ...\n",
       "96   Positive  kroger biggest supermarket chain united state ...\n",
       "97   Positive  kroger instead paid sick leave kroger providin...\n",
       "98   Positive  followed went shopping day ago pain necessary ...\n",
       "99   Negative  joncoopertweets took picture today home grocer...\n",
       "100  Negative                                           Negative\n",
       "\n",
       "[100 rows x 2 columns]"
      ]
     },
     "execution_count": 138,
     "metadata": {
      "tags": []
     },
     "output_type": "execute_result"
    }
   ],
   "source": [
    "binary_df.head(100)"
   ]
  },
  {
   "cell_type": "code",
   "execution_count": null,
   "metadata": {
    "id": "dsbnXdLGNtCB",
    "outputId": "7638370c-5c0b-4f94-92ad-4cc5cd86a857"
   },
   "outputs": [
    {
     "name": "stderr",
     "output_type": "stream",
     "text": [
      "<ipython-input-160-77446ee2e9bf>:1: SettingWithCopyWarning: \n",
      "A value is trying to be set on a copy of a slice from a DataFrame.\n",
      "Try using .loc[row_indexer,col_indexer] = value instead\n",
      "\n",
      "See the caveats in the documentation: https://pandas.pydata.org/pandas-docs/stable/user_guide/indexing.html#returning-a-view-versus-a-copy\n",
      "  neutral[:len(neutral)//2 - 1] = \"Negative\"\n",
      "/Users/ammar0ah/opt/anaconda3/lib/python3.8/site-packages/pandas/core/frame.py:2945: SettingWithCopyWarning: \n",
      "A value is trying to be set on a copy of a slice from a DataFrame\n",
      "\n",
      "See the caveats in the documentation: https://pandas.pydata.org/pandas-docs/stable/user_guide/indexing.html#returning-a-view-versus-a-copy\n",
      "  self.loc._setitem_with_indexer(key, value)\n",
      "/Users/ammar0ah/opt/anaconda3/lib/python3.8/site-packages/pandas/core/frame.py:2930: SettingWithCopyWarning: \n",
      "A value is trying to be set on a copy of a slice from a DataFrame\n",
      "\n",
      "See the caveats in the documentation: https://pandas.pydata.org/pandas-docs/stable/user_guide/indexing.html#returning-a-view-versus-a-copy\n",
      "  return self._setitem_slice(indexer, value)\n",
      "<ipython-input-160-77446ee2e9bf>:2: SettingWithCopyWarning: \n",
      "A value is trying to be set on a copy of a slice from a DataFrame.\n",
      "Try using .loc[row_indexer,col_indexer] = value instead\n",
      "\n",
      "See the caveats in the documentation: https://pandas.pydata.org/pandas-docs/stable/user_guide/indexing.html#returning-a-view-versus-a-copy\n",
      "  neutral[len(neutral)//n:] = \"Positive\"\n"
     ]
    }
   ],
   "source": [
    "neutral[:len(neutral)//2 - 1] = \"Negative\"\n",
    "neutral[len(neutral)//n:] = \"Positive\""
   ]
  },
  {
   "cell_type": "code",
   "execution_count": null,
   "metadata": {
    "id": "cYJ_ziGmNtCB",
    "outputId": "6358b8bd-5f6d-4bec-a3a2-88adb2f7075e"
   },
   "outputs": [
    {
     "data": {
      "text/html": [
       "<div>\n",
       "<style scoped>\n",
       "    .dataframe tbody tr th:only-of-type {\n",
       "        vertical-align: middle;\n",
       "    }\n",
       "\n",
       "    .dataframe tbody tr th {\n",
       "        vertical-align: top;\n",
       "    }\n",
       "\n",
       "    .dataframe thead th {\n",
       "        text-align: right;\n",
       "    }\n",
       "</style>\n",
       "<table border=\"1\" class=\"dataframe\">\n",
       "  <thead>\n",
       "    <tr style=\"text-align: right;\">\n",
       "      <th></th>\n",
       "      <th>Sentiment</th>\n",
       "      <th>CleanedTweet</th>\n",
       "    </tr>\n",
       "  </thead>\n",
       "  <tbody>\n",
       "    <tr>\n",
       "      <th>1</th>\n",
       "      <td>Positive</td>\n",
       "      <td>advice talk neighbour family exchange phone nu...</td>\n",
       "    </tr>\n",
       "    <tr>\n",
       "      <th>2</th>\n",
       "      <td>Positive</td>\n",
       "      <td>coronavirus australia woolworth give elderly d...</td>\n",
       "    </tr>\n",
       "    <tr>\n",
       "      <th>3</th>\n",
       "      <td>Positive</td>\n",
       "      <td>food stock one empty please dont panic enough ...</td>\n",
       "    </tr>\n",
       "    <tr>\n",
       "      <th>4</th>\n",
       "      <td>Negative</td>\n",
       "      <td>Negative</td>\n",
       "    </tr>\n",
       "    <tr>\n",
       "      <th>5</th>\n",
       "      <td>Positive</td>\n",
       "      <td>news region first confirmed covid case came su...</td>\n",
       "    </tr>\n",
       "    <tr>\n",
       "      <th>...</th>\n",
       "      <td>...</td>\n",
       "      <td>...</td>\n",
       "    </tr>\n",
       "    <tr>\n",
       "      <th>41141</th>\n",
       "      <td>Positive</td>\n",
       "      <td>Positive</td>\n",
       "    </tr>\n",
       "    <tr>\n",
       "      <th>41143</th>\n",
       "      <td>Positive</td>\n",
       "      <td>Positive</td>\n",
       "    </tr>\n",
       "    <tr>\n",
       "      <th>41144</th>\n",
       "      <td>Positive</td>\n",
       "      <td>Positive</td>\n",
       "    </tr>\n",
       "    <tr>\n",
       "      <th>41152</th>\n",
       "      <td>Positive</td>\n",
       "      <td>Positive</td>\n",
       "    </tr>\n",
       "    <tr>\n",
       "      <th>41155</th>\n",
       "      <td>Positive</td>\n",
       "      <td>Positive</td>\n",
       "    </tr>\n",
       "  </tbody>\n",
       "</table>\n",
       "<p>41141 rows × 2 columns</p>\n",
       "</div>"
      ],
      "text/plain": [
       "      Sentiment                                       CleanedTweet\n",
       "1      Positive  advice talk neighbour family exchange phone nu...\n",
       "2      Positive  coronavirus australia woolworth give elderly d...\n",
       "3      Positive  food stock one empty please dont panic enough ...\n",
       "4      Negative                                           Negative\n",
       "5      Positive  news region first confirmed covid case came su...\n",
       "...         ...                                                ...\n",
       "41141  Positive                                           Positive\n",
       "41143  Positive                                           Positive\n",
       "41144  Positive                                           Positive\n",
       "41152  Positive                                           Positive\n",
       "41155  Positive                                           Positive\n",
       "\n",
       "[41141 rows x 2 columns]"
      ]
     },
     "execution_count": 168,
     "metadata": {
      "tags": []
     },
     "output_type": "execute_result"
    }
   ],
   "source": [
    "binary_df.drop(binary_df[binary_df[\"Sentiment\"] == \"Neutral\"].index,inplace=True)\n",
    "binary_df.append(neutral)"
   ]
  },
  {
   "cell_type": "code",
   "execution_count": null,
   "metadata": {
    "id": "UCkhKZjhNtCC"
   },
   "outputs": [],
   "source": [
    "X_bin = binary_df[\"CleanedTweet\"]\n",
    "y_bin = binary_df[\"Sentiment\"]\n",
    "X_train_bin,X_test_bin,y_train_bin,y_test_bin = train_test_split(X_bin,y_bin,random_state=42)"
   ]
  },
  {
   "cell_type": "code",
   "execution_count": null,
   "metadata": {
    "id": "pCDgNHAfNtCC"
   },
   "outputs": [],
   "source": [
    "cv_bin = CountVectorizer(ngram_range=(1,4))\n",
    "cv_train_bin = cv_bin.fit_transform(X_train_bin)\n",
    "cv_test_bin = cv_bin.transform(X_test_bin)"
   ]
  },
  {
   "cell_type": "code",
   "execution_count": null,
   "metadata": {
    "id": "ykiQkFU5NtCC",
    "outputId": "cef34b6d-9978-4dd7-d09b-979e0085dbe9"
   },
   "outputs": [
    {
     "name": "stdout",
     "output_type": "stream",
     "text": [
      "Linear SVC Accuracy: 0.8646094964717139\n"
     ]
    }
   ],
   "source": [
    "svc_bin = LinearSVC()\n",
    "svc_bin.fit(cv_train_bin,y_train_bin)\n",
    "svc_prediction = svc_bin.predict(cv_test_bin)\n",
    "print('Linear SVC Accuracy: ' + str(accuracy_score(y_test_bin, svc_prediction)))"
   ]
  },
  {
   "cell_type": "markdown",
   "metadata": {
    "id": "XBvdF3wSNtCC"
   },
   "source": [
    "# Deep Learning"
   ]
  },
  {
   "cell_type": "code",
   "execution_count": 79,
   "metadata": {
    "id": "4qOIQl9UNtCC"
   },
   "outputs": [],
   "source": [
    "plt.style.use('ggplot')\n",
    "\n",
    "def plot_history(history):\n",
    "    acc = history.history['accuracy']\n",
    "    val_acc = history.history['val_accuracy']\n",
    "    loss = history.history['loss']\n",
    "    val_loss = history.history['val_loss']\n",
    "    x = range(1, len(acc) + 1)\n",
    "\n",
    "    plt.figure(figsize=(12, 5))\n",
    "    plt.subplot(1, 2, 1)\n",
    "    plt.plot(x, acc, 'b', label='Training acc')\n",
    "    plt.plot(x, val_acc, 'r', label='Validation acc')\n",
    "    plt.title('Training and validation accuracy')\n",
    "    plt.legend()\n",
    "    plt.subplot(1, 2, 2)\n",
    "    plt.plot(x, loss, 'b', label='Training loss')\n",
    "    plt.plot(x, val_loss, 'r', label='Validation loss')\n",
    "    plt.title('Training and validation loss')\n",
    "    plt.legend()"
   ]
  },
  {
   "cell_type": "code",
   "execution_count": 80,
   "metadata": {
    "id": "SDjyfpEQNtCC"
   },
   "outputs": [
    {
     "name": "stderr",
     "output_type": "stream",
     "text": [
      "Using TensorFlow backend.\n"
     ]
    }
   ],
   "source": [
    "from tensorflow import keras\n",
    "from tensorflow.keras.layers import Embedding,Dense,Flatten,MaxPooling1D,Dropout,LSTM,SpatialDropout1D,Bidirectional,GRU,GlobalMaxPooling1D\n",
    "from keras.layers.normalization import BatchNormalization\n",
    "from tensorflow.keras.preprocessing.sequence import pad_sequences\n",
    "from tensorflow.keras.preprocessing.text import Tokenizer\n",
    "from sklearn.model_selection import train_test_split\n"
   ]
  },
  {
   "cell_type": "markdown",
   "metadata": {},
   "source": [
    "# 5 classes"
   ]
  },
  {
   "cell_type": "code",
   "execution_count": null,
   "metadata": {
    "colab": {
     "base_uri": "https://localhost:8080/"
    },
    "id": "997wbDOlNtCC",
    "outputId": "2168648c-4d2f-4a13-c17c-78a57b345fee"
   },
   "outputs": [
    {
     "name": "stderr",
     "output_type": "stream",
     "text": [
      "/usr/local/lib/python3.6/dist-packages/ipykernel_launcher.py:5: SettingWithCopyWarning: \n",
      "A value is trying to be set on a copy of a slice from a DataFrame\n",
      "\n",
      "See the caveats in the documentation: https://pandas.pydata.org/pandas-docs/stable/user_guide/indexing.html#returning-a-view-versus-a-copy\n",
      "  \"\"\"\n",
      "/usr/local/lib/python3.6/dist-packages/ipykernel_launcher.py:6: SettingWithCopyWarning: \n",
      "A value is trying to be set on a copy of a slice from a DataFrame\n",
      "\n",
      "See the caveats in the documentation: https://pandas.pydata.org/pandas-docs/stable/user_guide/indexing.html#returning-a-view-versus-a-copy\n",
      "  \n",
      "/usr/local/lib/python3.6/dist-packages/ipykernel_launcher.py:7: SettingWithCopyWarning: \n",
      "A value is trying to be set on a copy of a slice from a DataFrame\n",
      "\n",
      "See the caveats in the documentation: https://pandas.pydata.org/pandas-docs/stable/user_guide/indexing.html#returning-a-view-versus-a-copy\n",
      "  import sys\n",
      "/usr/local/lib/python3.6/dist-packages/ipykernel_launcher.py:8: SettingWithCopyWarning: \n",
      "A value is trying to be set on a copy of a slice from a DataFrame\n",
      "\n",
      "See the caveats in the documentation: https://pandas.pydata.org/pandas-docs/stable/user_guide/indexing.html#returning-a-view-versus-a-copy\n",
      "  \n",
      "/usr/local/lib/python3.6/dist-packages/ipykernel_launcher.py:9: SettingWithCopyWarning: \n",
      "A value is trying to be set on a copy of a slice from a DataFrame\n",
      "\n",
      "See the caveats in the documentation: https://pandas.pydata.org/pandas-docs/stable/user_guide/indexing.html#returning-a-view-versus-a-copy\n",
      "  if __name__ == '__main__':\n"
     ]
    }
   ],
   "source": [
    "X = df[\"CleanedTweet\"]\n",
    "y = df[\"Sentiment\"]\n",
    "\n",
    "\n",
    "y[df[\"Sentiment\"]==\"Extremely Negative\"] = -2\n",
    "y[df[\"Sentiment\"]==\"Negative\"] = -1\n",
    "y[df[\"Sentiment\"]==\"Neutral\"] = 0\n",
    "y[df[\"Sentiment\"]==\"Positive\"] = 1\n",
    "y[df[\"Sentiment\"]==\"Extremely Positive\"] = 2\n",
    "\n",
    "X_train,X_test,y_train,y_test = train_test_split(X,y,random_state=42)\n"
   ]
  },
  {
   "cell_type": "code",
   "execution_count": null,
   "metadata": {
    "id": "50Vxs-d8NtCC"
   },
   "outputs": [],
   "source": [
    "tk = Tokenizer(num_words=5000)\n",
    "tk.fit_on_texts(X_train)\n",
    "vocab_size = len(tk.word_index)+1\n",
    "X_train= tk.texts_to_sequences(X_train)\n",
    "X_test = tk.texts_to_sequences(X_test)\n",
    "maxlen=500\n",
    "X_train = pad_sequences(X_train,padding='post',maxlen=maxlen)\n",
    "X_test = pad_sequences(X_test,padding='post',maxlen=maxlen)\n",
    "\n",
    "# X_train = X_train.astype('float32')\n",
    "# X_test = X_test.astype('float32')\n",
    "# y_train = y_train.astype('float32')\n",
    "# y_test = y_test.astype('float32')\n",
    "\n",
    "y_train = keras.utils.to_categorical(y_train.astype('float32'), num_classes)\n",
    "y_test = keras.utils.to_categorical(y_test.astype('float32'), num_classes)\n",
    "num_classes = 5"
   ]
  },
  {
   "cell_type": "code",
   "execution_count": null,
   "metadata": {
    "colab": {
     "base_uri": "https://localhost:8080/"
    },
    "id": "aXGp0Z8uNtCD",
    "outputId": "93205207-b954-4494-a77c-db87728dbd15"
   },
   "outputs": [
    {
     "name": "stdout",
     "output_type": "stream",
     "text": [
      "Model: \"sequential_33\"\n",
      "_________________________________________________________________\n",
      "Layer (type)                 Output Shape              Param #   \n",
      "=================================================================\n",
      "embedding_32 (Embedding)     (None, 500, 200)          8852600   \n",
      "_________________________________________________________________\n",
      "max_pooling1d_28 (MaxPooling (None, 166, 200)          0         \n",
      "_________________________________________________________________\n",
      "spatial_dropout1d_12 (Spatia (None, 166, 200)          0         \n",
      "_________________________________________________________________\n",
      "bidirectional_8 (Bidirection (None, 166, 200)          240800    \n",
      "_________________________________________________________________\n",
      "batch_normalization_6 (Batch (None, 166, 200)          800       \n",
      "_________________________________________________________________\n",
      "flatten_24 (Flatten)         (None, 33200)             0         \n",
      "_________________________________________________________________\n",
      "dense_51 (Dense)             (None, 100)               3320100   \n",
      "_________________________________________________________________\n",
      "dense_52 (Dense)             (None, 5)                 505       \n",
      "=================================================================\n",
      "Total params: 12,414,805\n",
      "Trainable params: 12,414,405\n",
      "Non-trainable params: 400\n",
      "_________________________________________________________________\n"
     ]
    }
   ],
   "source": [
    "embedding_dim = 200\n",
    "model = keras.Sequential()\n",
    "model.add(Embedding(input_dim=vocab_size,output_dim=embedding_dim,input_length=maxlen))\n",
    "\n",
    "model.add(MaxPooling1D(pool_size=3))\n",
    "\n",
    "model.add(SpatialDropout1D(0.2))\n",
    "\n",
    "model.add(Bidirectional(LSTM(100,activation='tanh',recurrent_activation='hard_sigmoid',recurrent_dropout=0.0,dropout=0.4,kernel_initializer='glorot_uniform',\n",
    "\t\treturn_sequences=True),\n",
    "\t\tmerge_mode='concat'))\n",
    "\n",
    "model.add(BatchNormalization())\n",
    "model.add(Flatten())\n",
    "\n",
    "model.add(Dense(units=embedding_dim//2))\n",
    "model.add(Dense(units=num_classes,activation='softmax'))\n",
    "model.compile(optimizer='adam',loss='categorical_crossentropy',metrics=['accuracy'])\n",
    "model.summary()\n",
    "\n"
   ]
  },
  {
   "cell_type": "code",
   "execution_count": null,
   "metadata": {
    "colab": {
     "base_uri": "https://localhost:8080/"
    },
    "id": "ivJSpBW1NtCD",
    "outputId": "fb28d6f9-7eaa-4c85-b091-c4e7e9dd66e1"
   },
   "outputs": [
    {
     "name": "stdout",
     "output_type": "stream",
     "text": [
      "Epoch 1/20\n",
      "772/772 [==============================] - 519s 673ms/step - loss: 1.5466 - accuracy: 0.4586 - val_loss: 0.9904 - val_accuracy: 0.5973\n",
      "Epoch 2/20\n",
      "772/772 [==============================] - 518s 671ms/step - loss: 0.8898 - accuracy: 0.6580 - val_loss: 0.9266 - val_accuracy: 0.6572\n",
      "Epoch 3/20\n",
      "772/772 [==============================] - 520s 674ms/step - loss: 0.7290 - accuracy: 0.7298 - val_loss: 0.9389 - val_accuracy: 0.6501\n",
      "Epoch 4/20\n",
      "772/772 [==============================] - 520s 674ms/step - loss: 0.6001 - accuracy: 0.7777 - val_loss: 0.9745 - val_accuracy: 0.6460\n",
      "Epoch 5/20\n",
      "772/772 [==============================] - 522s 676ms/step - loss: 0.4827 - accuracy: 0.8217 - val_loss: 1.0530 - val_accuracy: 0.6391\n",
      "Epoch 6/20\n",
      "772/772 [==============================] - 522s 677ms/step - loss: 0.3909 - accuracy: 0.8593 - val_loss: 1.3318 - val_accuracy: 0.6055\n",
      "Epoch 7/20\n",
      "772/772 [==============================] - 517s 670ms/step - loss: 0.3338 - accuracy: 0.8801 - val_loss: 1.3293 - val_accuracy: 0.6100\n",
      "Epoch 8/20\n",
      "772/772 [==============================] - 517s 670ms/step - loss: 0.2699 - accuracy: 0.9009 - val_loss: 1.6416 - val_accuracy: 0.5992\n",
      "Epoch 9/20\n",
      "772/772 [==============================] - 518s 671ms/step - loss: 0.2398 - accuracy: 0.9148 - val_loss: 1.4531 - val_accuracy: 0.6204\n",
      "Epoch 10/20\n",
      "772/772 [==============================] - 518s 671ms/step - loss: 0.2045 - accuracy: 0.9290 - val_loss: 1.6861 - val_accuracy: 0.6094\n",
      "Epoch 11/20\n",
      "772/772 [==============================] - 516s 669ms/step - loss: 0.1897 - accuracy: 0.9333 - val_loss: 1.7371 - val_accuracy: 0.5967\n",
      "Epoch 12/20\n",
      "772/772 [==============================] - 516s 668ms/step - loss: 0.1668 - accuracy: 0.9397 - val_loss: 1.8247 - val_accuracy: 0.6114\n",
      "Epoch 13/20\n",
      "772/772 [==============================] - 516s 668ms/step - loss: 0.1536 - accuracy: 0.9473 - val_loss: 1.9101 - val_accuracy: 0.6011\n",
      "Epoch 14/20\n",
      "772/772 [==============================] - 518s 671ms/step - loss: 0.1432 - accuracy: 0.9512 - val_loss: 1.8528 - val_accuracy: 0.6079\n",
      "Epoch 15/20\n",
      "772/772 [==============================] - 520s 674ms/step - loss: 0.1273 - accuracy: 0.9564 - val_loss: 2.1402 - val_accuracy: 0.5972\n",
      "Epoch 16/20\n",
      "772/772 [==============================] - 517s 670ms/step - loss: 0.1241 - accuracy: 0.9567 - val_loss: 2.0034 - val_accuracy: 0.6109\n",
      "Epoch 17/20\n",
      "772/772 [==============================] - 516s 668ms/step - loss: 0.1125 - accuracy: 0.9620 - val_loss: 2.1072 - val_accuracy: 0.6049\n",
      "Epoch 18/20\n",
      "772/772 [==============================] - 516s 669ms/step - loss: 0.1029 - accuracy: 0.9650 - val_loss: 2.1904 - val_accuracy: 0.6177\n",
      "Epoch 19/20\n",
      "772/772 [==============================] - 516s 668ms/step - loss: 0.0983 - accuracy: 0.9664 - val_loss: 2.1222 - val_accuracy: 0.6129\n",
      "Epoch 20/20\n",
      "772/772 [==============================] - 516s 668ms/step - loss: 0.0944 - accuracy: 0.9678 - val_loss: 2.1393 - val_accuracy: 0.6109\n",
      "965/965 [==============================] - 79s 82ms/step - loss: 0.0188 - accuracy: 0.9959\n",
      "Training Accuracy: 0.9959\n",
      "322/322 [==============================] - 26s 81ms/step - loss: 2.1393 - accuracy: 0.6109\n",
      "Testing Accuracy:  0.6109\n"
     ]
    }
   ],
   "source": [
    "history = model.fit(X_train,y_train,epochs=20,shuffle=True,validation_data=(X_test,y_test),batch_size=40)\n",
    "\n",
    "loss,accuracy = model.evaluate(X_train,y_train)\n",
    "print(\"Training Accuracy: {:.4f}\".format(accuracy))\n",
    "loss, accuracy = model.evaluate(X_test, y_test)\n",
    "print(\"Testing Accuracy:  {:.4f}\".format(accuracy))"
   ]
  },
  {
   "cell_type": "markdown",
   "metadata": {
    "id": "oZKicwiJ9WE5"
   },
   "source": [
    ".\n"
   ]
  },
  {
   "cell_type": "markdown",
   "metadata": {
    "id": "URTxi3Y29VPp"
   },
   "source": [
    "# 3 classes"
   ]
  },
  {
   "cell_type": "code",
   "execution_count": 102,
   "metadata": {
    "colab": {
     "base_uri": "https://localhost:8080/"
    },
    "id": "w6-sLusBNtCD",
    "outputId": "f2bbab4b-da44-407f-8401-9384eef88d58"
   },
   "outputs": [
    {
     "data": {
      "text/plain": [
       "2    0.438638\n",
       "1    0.374274\n",
       "0    0.187088\n",
       "Name: Sentiment, dtype: float64"
      ]
     },
     "execution_count": 102,
     "metadata": {
      "tags": []
     },
     "output_type": "execute_result"
    }
   ],
   "source": [
    "X = df[\"CleanedTweet\"].copy()\n",
    "y = df[\"Sentiment\"].copy()\n",
    "\n",
    "def reclass(x):\n",
    "  if x == \"Extremely Negative\":\n",
    "    return 1\n",
    "  if x == \"Negative\":\n",
    "    return 1\n",
    "  if x == \"Positive\":\n",
    "    return 2\n",
    "  if x == \"Extremely Positive\":\n",
    "    return 2\n",
    "  return 0\n",
    "\n",
    "y = y.apply(lambda x:reclass(x))\n",
    "X_train,X_test,y_train,y_test = train_test_split(X,y,random_state=42)\n",
    "\n",
    "num_classes = 3\n",
    "y.value_counts(normalize= True)\n"
   ]
  },
  {
   "cell_type": "code",
   "execution_count": 122,
   "metadata": {
    "id": "6HSOzcZj_Khn"
   },
   "outputs": [],
   "source": [
    "tk = Tokenizer(num_words=5000)\n",
    "tk.fit_on_texts(X_train)\n",
    "vocab_size = len(tk.word_index)+1\n",
    "X_train= tk.texts_to_sequences(X_train)\n",
    "X_test = tk.texts_to_sequences(X_test)\n",
    "maxlen=280\n",
    "X_train = pad_sequences(X_train,padding='post',maxlen=maxlen)\n",
    "X_test = pad_sequences(X_test,padding='post',maxlen=maxlen)\n"
   ]
  },
  {
   "cell_type": "code",
   "execution_count": 86,
   "metadata": {
    "colab": {
     "base_uri": "https://localhost:8080/"
    },
    "id": "8_6CfePmNtCE",
    "outputId": "02dba031-7228-429f-fd1f-1424b58d9029"
   },
   "outputs": [
    {
     "name": "stdout",
     "output_type": "stream",
     "text": [
      "Model: \"sequential_10\"\n",
      "_________________________________________________________________\n",
      "Layer (type)                 Output Shape              Param #   \n",
      "=================================================================\n",
      "embedding_9 (Embedding)      (None, 280, 16)           708208    \n",
      "_________________________________________________________________\n",
      "bidirectional_7 (Bidirection (None, 280, 512)          420864    \n",
      "_________________________________________________________________\n",
      "global_max_pooling1d_6 (Glob (None, 512)               0         \n",
      "_________________________________________________________________\n",
      "dense_17 (Dense)             (None, 64)                32832     \n",
      "_________________________________________________________________\n",
      "dropout_1 (Dropout)          (None, 64)                0         \n",
      "_________________________________________________________________\n",
      "dense_18 (Dense)             (None, 3)                 195       \n",
      "=================================================================\n",
      "Total params: 1,162,099\n",
      "Trainable params: 1,162,099\n",
      "Non-trainable params: 0\n",
      "_________________________________________________________________\n"
     ]
    }
   ],
   "source": [
    "embedding_dim = 16\n",
    "model = keras.Sequential()\n",
    "model.add(Embedding(input_dim=vocab_size,output_dim=embedding_dim,input_length=maxlen))\n",
    "model.add(Bidirectional(GRU(256, return_sequences=True)))\n",
    "model.add(GlobalMaxPooling1D())\n",
    "model.add(Dense(64,activation='relu'))\n",
    "model.add(Dropout(0.4))\n",
    "model.add(Dense(units=num_classes,activation='sigmoid'))\n",
    "model.compile(optimizer='adam',loss='sparse_categorical_crossentropy',metrics=['accuracy'])\n",
    "model.summary()\n",
    "\n"
   ]
  },
  {
   "cell_type": "code",
   "execution_count": 87,
   "metadata": {
    "colab": {
     "base_uri": "https://localhost:8080/"
    },
    "id": "SqoCrDsWNtCE",
    "outputId": "5f7579c8-cfe9-4bf3-bc7e-30f7590c8749"
   },
   "outputs": [
    {
     "name": "stdout",
     "output_type": "stream",
     "text": [
      "Epoch 1/5\n",
      "428/428 [==============================] - 787s 2s/step - loss: 0.9422 - accuracy: 0.5052 - val_loss: 0.5087 - val_accuracy: 0.8082\n",
      "Epoch 2/5\n",
      "428/428 [==============================] - 792s 2s/step - loss: 0.4746 - accuracy: 0.8401 - val_loss: 0.4718 - val_accuracy: 0.8308\n",
      "Epoch 3/5\n",
      "428/428 [==============================] - 791s 2s/step - loss: 0.3945 - accuracy: 0.8698 - val_loss: 0.4747 - val_accuracy: 0.8377\n",
      "Epoch 4/5\n",
      "428/428 [==============================] - 787s 2s/step - loss: 0.3617 - accuracy: 0.8823 - val_loss: 0.5011 - val_accuracy: 0.8321\n",
      "Epoch 5/5\n",
      "428/428 [==============================] - 786s 2s/step - loss: 0.3372 - accuracy: 0.8914 - val_loss: 0.5345 - val_accuracy: 0.8215\n",
      "965/965 [==============================] - 295s 306ms/step - loss: 0.3080 - accuracy: 0.8986\n",
      "Training Accuracy: 0.8986\n",
      "322/322 [==============================] - 98s 304ms/step - loss: 0.5236 - accuracy: 0.8219\n",
      "Testing Accuracy:  0.8219\n"
     ]
    }
   ],
   "source": [
    "history = model.fit(X_train,y_train,epochs=5,shuffle=True,validation_data=(X_test,y_test),batch_size=65,validation_split=0.1)\n",
    "\n",
    "loss,accuracy = model.evaluate(X_train,y_train)\n",
    "print(\"Training Accuracy: {:.4f}\".format(accuracy))\n",
    "loss, accuracy = model.evaluate(X_test, y_test)\n",
    "print(\"Testing Accuracy:  {:.4f}\".format(accuracy))"
   ]
  },
  {
   "cell_type": "code",
   "execution_count": 92,
   "metadata": {
    "colab": {
     "base_uri": "https://localhost:8080/",
     "height": 337
    },
    "id": "sN_3mplf_Rcy",
    "outputId": "24f1ac48-ef10-42a0-b80d-d892c3fe61f7"
   },
   "outputs": [
    {
     "data": {
      "image/png": "[encoded data removed]",
      "text/plain": [
       "<Figure size 864x360 with 2 Axes>"
      ]
     },
     "metadata": {
      "tags": []
     },
     "output_type": "display_data"
    }
   ],
   "source": [
    "plot_history(history)"
   ]
  },
  {
   "cell_type": "markdown",
   "metadata": {},
   "source": [
    "# 5 classes\n"
   ]
  },
  {
   "cell_type": "code",
   "execution_count": 77,
   "metadata": {
    "id": "-d6HxQ5QZ7FW"
   },
   "outputs": [
    {
     "data": {
      "text/plain": [
       "0        0\n",
       "1        3\n",
       "2        3\n",
       "3        3\n",
       "4        1\n",
       "        ..\n",
       "41152    0\n",
       "41153    1\n",
       "41154    3\n",
       "41155    0\n",
       "41156    2\n",
       "Name: Sentiment, Length: 41141, dtype: int64"
      ]
     },
     "execution_count": 77,
     "metadata": {},
     "output_type": "execute_result"
    }
   ],
   "source": [
    "X = df[\"CleanedTweet\"].copy()\n",
    "y = df[\"Sentiment\"].copy()\n",
    "\n",
    "\n",
    "def reclass_5(x):\n",
    "      if x == \"Extremely Negative\":\n",
    "        return 1\n",
    "      if x == \"Negative\":\n",
    "        return 2\n",
    "      if x == \"Positive\":\n",
    "        return 3\n",
    "      if x == \"Extremely Positive\":\n",
    "        return 4\n",
    "      return 0\n",
    "\n",
    "y = y.apply(lambda x:reclass_5(x))\n",
    "X_train,X_test,y_train,y_test = train_test_split(X,y,random_state=42)\n",
    "\n",
    "num_classes = 5\n",
    "y.value_counts(normalize= True)\n",
    "max_input = np.max(X.apply(lambda tweet: len(tweet)))\n",
    "y"
   ]
  },
  {
   "cell_type": "code",
   "execution_count": 81,
   "metadata": {
    "id": "uWKBZoLJaAvL"
   },
   "outputs": [],
   "source": [
    "tk = Tokenizer(num_words=5000)\n",
    "tk.fit_on_texts(X_train)\n",
    "vocab_size = len(tk.word_index)+1\n",
    "X_train= tk.texts_to_sequences(X_train)\n",
    "X_test = tk.texts_to_sequences(X_test)\n",
    "maxlen=280\n",
    "X_train = pad_sequences(X_train,padding='post',maxlen=maxlen)\n",
    "X_test = pad_sequences(X_test,padding='post',maxlen=maxlen)\n"
   ]
  },
  {
   "cell_type": "code",
   "execution_count": 82,
   "metadata": {
    "colab": {
     "base_uri": "https://localhost:8080/"
    },
    "id": "PS53HJwEUQ1F",
    "outputId": "9ad21742-d9bd-4ec7-b685-2eade00cee57"
   },
   "outputs": [
    {
     "name": "stdout",
     "output_type": "stream",
     "text": [
      "Model: \"sequential\"\n",
      "_________________________________________________________________\n",
      "Layer (type)                 Output Shape              Param #   \n",
      "=================================================================\n",
      "embedding (Embedding)        (None, 280, 16)           708208    \n",
      "_________________________________________________________________\n",
      "bidirectional (Bidirectional (None, 280, 512)          420864    \n",
      "_________________________________________________________________\n",
      "global_max_pooling1d (Global (None, 512)               0         \n",
      "_________________________________________________________________\n",
      "dense (Dense)                (None, 64)                32832     \n",
      "_________________________________________________________________\n",
      "dropout (Dropout)            (None, 64)                0         \n",
      "_________________________________________________________________\n",
      "dense_1 (Dense)              (None, 5)                 325       \n",
      "=================================================================\n",
      "Total params: 1,162,229\n",
      "Trainable params: 1,162,229\n",
      "Non-trainable params: 0\n",
      "_________________________________________________________________\n"
     ]
    }
   ],
   "source": [
    "embedding_dim = 16\n",
    "model = keras.Sequential()\n",
    "model.add(Embedding(input_dim=vocab_size,output_dim=embedding_dim,input_length=maxlen))\n",
    "model.add(Bidirectional(GRU(256, return_sequences=True)))\n",
    "model.add(GlobalMaxPooling1D())\n",
    "model.add(Dense(64,activation='relu'))\n",
    "model.add(Dropout(0.4))\n",
    "model.add(Dense(units=num_classes,activation='softmax'))\n",
    "model.compile(optimizer='adam',loss='sparse_categorical_crossentropy',metrics=['accuracy'])\n",
    "model.summary()"
   ]
  },
  {
   "cell_type": "code",
   "execution_count": 85,
   "metadata": {
    "colab": {
     "base_uri": "https://localhost:8080/"
    },
    "id": "42WWCJuVYtXy",
    "outputId": "06fe1f5d-781c-4487-b72f-445c880bcc35"
   },
   "outputs": [
    {
     "name": "stdout",
     "output_type": "stream",
     "text": [
      "Epoch 1/5\n",
      "428/428 [==============================] - 252s 589ms/step - loss: 1.2080 - accuracy: 0.4951 - val_loss: 0.9268 - val_accuracy: 0.6445\n",
      "Epoch 2/5\n",
      "428/428 [==============================] - 247s 576ms/step - loss: 0.8512 - accuracy: 0.6966 - val_loss: 0.8402 - val_accuracy: 0.6844\n",
      "Epoch 3/5\n",
      "428/428 [==============================] - 247s 577ms/step - loss: 0.7547 - accuracy: 0.7363 - val_loss: 0.7852 - val_accuracy: 0.7165\n",
      "Epoch 4/5\n",
      "428/428 [==============================] - 252s 589ms/step - loss: 0.7040 - accuracy: 0.7606 - val_loss: 0.8013 - val_accuracy: 0.7216\n",
      "Epoch 5/5\n",
      "428/428 [==============================] - 252s 588ms/step - loss: 0.6626 - accuracy: 0.7729 - val_loss: 0.8264 - val_accuracy: 0.7145\n",
      "965/965 [==============================] - 81s 84ms/step - loss: 0.5594 - accuracy: 0.8078\n",
      "Training Accuracy: 0.8078\n",
      "322/322 [==============================] - 28s 86ms/step - loss: 0.8268 - accuracy: 0.7226\n",
      "Testing Accuracy:  0.7226\n"
     ]
    }
   ],
   "source": [
    "history = model.fit(X_train,y_train,epochs=5,shuffle=True,validation_data=(X_test,y_test),batch_size=65,validation_split=0.1)\n",
    "\n",
    "loss,accuracy = model.evaluate(X_train,y_train)\n",
    "print(\"Training Accuracy: {:.4f}\".format(accuracy))\n",
    "loss, accuracy = model.evaluate(X_test, y_test)\n",
    "print(\"Testing Accuracy:  {:.4f}\".format(accuracy))"
   ]
  },
  {
   "cell_type": "code",
   "execution_count": 118,
   "metadata": {},
   "outputs": [
    {
     "data": {
      "image/png": "[encoded data removed]",
      "text/plain": [
       "<Figure size 864x360 with 2 Axes>"
      ]
     },
     "metadata": {},
     "output_type": "display_data"
    }
   ],
   "source": [
    "plot_history(history)"
   ]
  },
  {
   "cell_type": "code",
   "execution_count": null,
   "metadata": {},
   "outputs": [],
   "source": []
  },
  {
   "cell_type": "code",
   "execution_count": 137,
   "metadata": {
    "id": "2OOuO7jVaK7r"
   },
   "outputs": [],
   "source": [
    "def cleaning_result(dirty_list):\n",
    "  res = []\n",
    "  for dirty_text in dirty_list:\n",
    "    res.append(preprocess(dirty_text))\n",
    "  return res"
   ]
  },
  {
   "cell_type": "code",
   "execution_count": 138,
   "metadata": {
    "colab": {
     "base_uri": "https://localhost:8080/"
    },
    "id": "w5JxmdF0uCZj",
    "outputId": "136d6237-96f3-43fc-f560-156d697a8f4b"
   },
   "outputs": [
    {
     "data": {
      "text/plain": [
       "['hello', 'hi using whatsapp']"
      ]
     },
     "execution_count": 138,
     "metadata": {
      "tags": []
     },
     "output_type": "execute_result"
    }
   ],
   "source": [
    "cleaning_result([\"hello!! ?\" , \"hi! I am using whatsapp.\"])"
   ]
  },
  {
   "cell_type": "code",
   "execution_count": 6,
   "metadata": {
    "id": "Ylg05RkvuCWf"
   },
   "outputs": [
    {
     "name": "stdout",
     "output_type": "stream",
     "text": [
      "WARNING:tensorflow:Model was constructed with shape (None, 280) for input KerasTensor(type_spec=TensorSpec(shape=(None, 280), dtype=tf.float32, name='embedding_9_input'), name='embedding_9_input', description=\"created by layer 'embedding_9_input'\"), but it was called on an input with incompatible shape (32, 257).\n",
      "89/89 [==============================] - 7s 71ms/step - loss: 2.1172 - accuracy: 0.4263\n",
      "Training Accuracy: 0.4263\n",
      "WARNING:tensorflow:Model was constructed with shape (None, 280) for input KerasTensor(type_spec=TensorSpec(shape=(None, 280), dtype=tf.float32, name='embedding_9_input'), name='embedding_9_input', description=\"created by layer 'embedding_9_input'\"), but it was called on an input with incompatible shape (None, 257).\n",
      "30/30 [==============================] - 3s 72ms/step - loss: 2.1233 - accuracy: 0.4316\n",
      "Testing Accuracy:  0.4316\n"
     ]
    }
   ],
   "source": [
    "from tensorflow import keras\n",
    "from tensorflow.keras.layers import Embedding,Dense,Flatten,MaxPooling1D,Dropout,LSTM,SpatialDropout1D,Bidirectional,GRU,GlobalMaxPooling1D\n",
    "from tensorflow.keras.preprocessing.sequence import pad_sequences\n",
    "from tensorflow.keras.preprocessing.text import Tokenizer\n",
    "from sklearn.model_selection import train_test_split\n",
    "import pandas as pd\n",
    "def reclass_3(x):\n",
    "  if x == \"Extremely Negative\":\n",
    "    return 1\n",
    "  if x == \"Negative\":\n",
    "    return 1\n",
    "  if x == \"Positive\":\n",
    "    return 2\n",
    "  if x == \"Extremely Positive\":\n",
    "    return 2\n",
    "  return 0\n",
    "\n",
    "\n",
    "def testing_result(path):\n",
    "    df = pd.read_csv(path)\n",
    "    X = df[\"OriginalTweet\"].apply(lambda tweet: preprocess(tweet))\n",
    "    y = df[\"Sentiment\"]\n",
    "    y = y.apply(lambda x:reclass_3(x))\n",
    "    model = keras.models.load_model('3classes.h5')\n",
    "    X_train,X_test,y_train,y_test = train_test_split(X,y,random_state=42)\n",
    "    \n",
    "    tk = Tokenizer(num_words=5000)\n",
    "    tk.fit_on_texts(X_train)\n",
    "    vocab_size = len(tk.word_index)+1\n",
    "    X_train= tk.texts_to_sequences(X_train)\n",
    "    X_test = tk.texts_to_sequences(X_test)\n",
    "    maxlen= np.max(X.apply(lambda tweet: len(tweet)))\n",
    "    X_train = pad_sequences(X_train,padding='post',maxlen=maxlen)\n",
    "    X_test = pad_sequences(X_test,padding='post',maxlen=maxlen)\n",
    "    loss,accuracy = model.evaluate(X_train,y_train)\n",
    "    print(\"Training Accuracy: {:.4f}\".format(accuracy))\n",
    "    loss, accuracy = model.evaluate(X_test, y_test)\n",
    "    print(\"Testing Accuracy:  {:.4f}\".format(accuracy))\n",
    "\n",
    "testing_result('Corona_NLP_test.csv')"
   ]
  },
  {
   "cell_type": "markdown",
   "metadata": {},
   "source": [
    "# Accuracy Table"
   ]
  },
  {
   "cell_type": "code",
   "execution_count": 90,
   "metadata": {
    "id": "Su2afeBbuA3p"
   },
   "outputs": [
    {
     "data": {
      "text/html": [
       "<div>\n",
       "<style scoped>\n",
       "    .dataframe tbody tr th:only-of-type {\n",
       "        vertical-align: middle;\n",
       "    }\n",
       "\n",
       "    .dataframe tbody tr th {\n",
       "        vertical-align: top;\n",
       "    }\n",
       "\n",
       "    .dataframe thead th {\n",
       "        text-align: right;\n",
       "    }\n",
       "</style>\n",
       "<table border=\"1\" class=\"dataframe\">\n",
       "  <thead>\n",
       "    <tr style=\"text-align: right;\">\n",
       "      <th></th>\n",
       "      <th>Model</th>\n",
       "      <th>Test Accuract</th>\n",
       "      <th>Train Accuracy</th>\n",
       "    </tr>\n",
       "  </thead>\n",
       "  <tbody>\n",
       "    <tr>\n",
       "      <th>0</th>\n",
       "      <td>MultiNomialNB TF-IDF</td>\n",
       "      <td>0.387809</td>\n",
       "      <td>-</td>\n",
       "    </tr>\n",
       "    <tr>\n",
       "      <th>1</th>\n",
       "      <td>RidgeClassifier TF-IDF</td>\n",
       "      <td>0.532957</td>\n",
       "      <td>-</td>\n",
       "    </tr>\n",
       "    <tr>\n",
       "      <th>2</th>\n",
       "      <td>RidgeClassifier BOW</td>\n",
       "      <td>0.535777</td>\n",
       "      <td>-</td>\n",
       "    </tr>\n",
       "    <tr>\n",
       "      <th>3</th>\n",
       "      <td>LogisticRegrission BOW</td>\n",
       "      <td>0.579623</td>\n",
       "      <td>-</td>\n",
       "    </tr>\n",
       "    <tr>\n",
       "      <th>4</th>\n",
       "      <td>LinearSVC BOW</td>\n",
       "      <td>0.588081</td>\n",
       "      <td>-</td>\n",
       "    </tr>\n",
       "    <tr>\n",
       "      <th>5</th>\n",
       "      <td>LinearSVC TF-IDF</td>\n",
       "      <td>0.564359</td>\n",
       "      <td>-</td>\n",
       "    </tr>\n",
       "    <tr>\n",
       "      <th>6</th>\n",
       "      <td>LinearSVC BOW 2 classes</td>\n",
       "      <td>0.864609</td>\n",
       "      <td>-</td>\n",
       "    </tr>\n",
       "    <tr>\n",
       "      <th>7</th>\n",
       "      <td>BI-LSTM 5 classes</td>\n",
       "      <td>0.610900</td>\n",
       "      <td>0.9959</td>\n",
       "    </tr>\n",
       "    <tr>\n",
       "      <th>8</th>\n",
       "      <td>BI-GRU 3 classes sigmoid</td>\n",
       "      <td>0.821900</td>\n",
       "      <td>0.8986</td>\n",
       "    </tr>\n",
       "    <tr>\n",
       "      <th>9</th>\n",
       "      <td>BI-GRU 3 classes softmax</td>\n",
       "      <td>0.832800</td>\n",
       "      <td>0.9047</td>\n",
       "    </tr>\n",
       "    <tr>\n",
       "      <th>10</th>\n",
       "      <td>BI-GRU 5 classes softmax</td>\n",
       "      <td>0.722600</td>\n",
       "      <td>0.8078</td>\n",
       "    </tr>\n",
       "  </tbody>\n",
       "</table>\n",
       "</div>"
      ],
      "text/plain": [
       "                       Model  Test Accuract Train Accuracy\n",
       "0       MultiNomialNB TF-IDF       0.387809              -\n",
       "1     RidgeClassifier TF-IDF       0.532957              -\n",
       "2        RidgeClassifier BOW       0.535777              -\n",
       "3     LogisticRegrission BOW       0.579623              -\n",
       "4              LinearSVC BOW       0.588081              -\n",
       "5           LinearSVC TF-IDF       0.564359              -\n",
       "6    LinearSVC BOW 2 classes       0.864609              -\n",
       "7          BI-LSTM 5 classes       0.610900         0.9959\n",
       "8   BI-GRU 3 classes sigmoid       0.821900         0.8986\n",
       "9   BI-GRU 3 classes softmax       0.832800         0.9047\n",
       "10  BI-GRU 5 classes softmax       0.722600         0.8078"
      ]
     },
     "execution_count": 90,
     "metadata": {},
     "output_type": "execute_result"
    }
   ],
   "source": [
    "acc_table = pd.DataFrame({\"Model\":[\"MultiNomialNB TF-IDF\",\"RidgeClassifier TF-IDF\",\"RidgeClassifier BOW\",\"LogisticRegrission BOW\",\"LinearSVC BOW\",\"LinearSVC TF-IDF\",\n",
    "                                 \"LinearSVC BOW 2 classes\",\"BI-LSTM 5 classes\",\"BI-GRU 3 classes sigmoid\",\"BI-GRU 3 classes softmax\",\"BI-GRU 5 classes softmax\"],\n",
    "                          \n",
    "                          \"Test Accuract\":[0.38780867198133384,0.5329574178495042,0.5357767839782228,0.5796227882558818\n",
    "                          ,0.5880808866420377,0.5643593233521291,0.8646094964717139,0.6109,0.8219,0.8328,0.7226],\n",
    "                          \"Train Accuracy\":[\"-\",\"-\",\"-\",\"-\",\"-\",\"-\",\"-\",0.9959,0.8986,0.9047,0.8078]\n",
    "                         })\n",
    "acc_table\n"
   ]
  },
  {
   "cell_type": "code",
   "execution_count": null,
   "metadata": {},
   "outputs": [],
   "source": []
  }
 ],
 "metadata": {
  "colab": {
   "collapsed_sections": [
    "ILkMgk5dNtB4",
    "nuEVSWltNtB4",
    "wLpcexUeNtB5",
    "1sYOgIbtNtB5",
    "-7tEBOEYNtB6",
    "2r_K9pvENtB6",
    "I6IhWqhzNtB6",
    "Rg8GriIUNtB7",
    "b1gIdXQXNtB8",
    "YYwWPPZHNtB9",
    "pSY4vattNtB-"
   ],
   "name": "NLP_HW_p1_Ammar_Al-Helali.ipynb",
   "provenance": [],
   "toc_visible": true
  },
  "kernelspec": {
   "display_name": "Python 3",
   "language": "python",
   "name": "python3"
  },
  "language_info": {
   "codemirror_mode": {
    "name": "ipython",
    "version": 3
   },
   "file_extension": ".py",
   "mimetype": "text/x-python",
   "name": "python",
   "nbconvert_exporter": "python",
   "pygments_lexer": "ipython3",
   "version": "3.8.3"
  }
 },
 "nbformat": 4,
 "nbformat_minor": 1
}
